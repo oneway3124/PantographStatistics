{
 "cells": [
  {
   "cell_type": "code",
   "execution_count": 3,
   "id": "428d6378",
   "metadata": {},
   "outputs": [],
   "source": [
    "import os\n",
    "import xlrd\n",
    "import xlsxwriter"
   ]
  },
  {
   "cell_type": "code",
   "execution_count": 5,
   "id": "a16464b9",
   "metadata": {},
   "outputs": [],
   "source": [
    "path = r'C:\\Users\\lenovo\\Desktop\\PantographStatistics\\HXD3D0308_20220101_0130-0430'"
   ]
  },
  {
   "cell_type": "code",
   "execution_count": 12,
   "id": "5cb01c88",
   "metadata": {},
   "outputs": [],
   "source": [
    "work=xlsxwriter.Workbook('./output.xlsx')"
   ]
  },
  {
   "cell_type": "code",
   "execution_count": 7,
   "id": "5ba197d7",
   "metadata": {},
   "outputs": [],
   "source": [
    "sheet=work.add_worksheet('combine')"
   ]
  },
  {
   "cell_type": "code",
   "execution_count": 8,
   "id": "3d0dcac3",
   "metadata": {},
   "outputs": [],
   "source": [
    "file_list=os.listdir(path)\n",
    "file_list.sort()"
   ]
  },
  {
   "cell_type": "code",
   "execution_count": 9,
   "id": "44a42970",
   "metadata": {},
   "outputs": [
    {
     "name": "stdout",
     "output_type": "stream",
     "text": [
      "在该目录下有26个xlsx文件\n"
     ]
    }
   ],
   "source": [
    "file_name='';\n",
    "x1=1; x2=1;\n",
    "fileNum = len(file_list)\n",
    "print(\"在该目录下有%d个xlsx文件\"%fileNum)"
   ]
  },
  {
   "cell_type": "code",
   "execution_count": 13,
   "id": "4e169601",
   "metadata": {},
   "outputs": [
    {
     "name": "stdout",
     "output_type": "stream",
     "text": [
      "已将26个文件合并完成\n"
     ]
    }
   ],
   "source": [
    "for file in file_list:\n",
    "    if 'test' in file:                       #此处需要修改！\n",
    "        file_name = os.path.join(path,file) \n",
    "    else:\n",
    "        continue\n",
    "\n",
    "    workbook=xlrd.open_workbook(file_name)\n",
    "    sheet_name=workbook.sheet_names()\n",
    "\n",
    "    for file_1 in sheet_name:\n",
    "        table=workbook.sheet_by_name(file_1)\n",
    "        rows=table.nrows\n",
    "        clos=table.ncols\n",
    "\n",
    "        for i in range(rows): \n",
    "            sheet.write_row('A'+str(x1),table.row_values(i))\n",
    "            x1+=1\n",
    "\n",
    "    print('正在合并第%d个文件 '%x2)\n",
    "    print('已完成 ' + file_name)\n",
    "    x2 += 1;\n",
    "    \n",
    "print(\"已将%d个文件合并完成\"%fileNum)\n",
    "work.close()"
   ]
  }
 ],
 "metadata": {
  "kernelspec": {
   "display_name": "Python 3 (ipykernel)",
   "language": "python",
   "name": "python3"
  },
  "language_info": {
   "codemirror_mode": {
    "name": "ipython",
    "version": 3
   },
   "file_extension": ".py",
   "mimetype": "text/x-python",
   "name": "python",
   "nbconvert_exporter": "python",
   "pygments_lexer": "ipython3",
   "version": "3.9.13"
  }
 },
 "nbformat": 4,
 "nbformat_minor": 5
}
