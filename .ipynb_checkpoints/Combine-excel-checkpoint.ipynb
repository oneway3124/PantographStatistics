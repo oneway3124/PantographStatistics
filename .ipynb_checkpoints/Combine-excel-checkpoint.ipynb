{
 "cells": [
  {
   "cell_type": "code",
   "execution_count": 3,
   "id": "338c49ef",
   "metadata": {},
   "outputs": [],
   "source": [
    "import os\n",
    "import xlrd\n",
    "import xlsxwriter"
   ]
  },
  {
   "cell_type": "code",
   "execution_count": null,
   "id": "2966adbe",
   "metadata": {},
   "outputs": [],
   "source": [
    "path = 'C:\\Users\\lenovo\\Desktop\\PantographStatistics\\HXD3D0308_20220101_0130-0430'"
   ]
  }
 ],
 "metadata": {
  "kernelspec": {
   "display_name": "Python 3 (ipykernel)",
   "language": "python",
   "name": "python3"
  },
  "language_info": {
   "codemirror_mode": {
    "name": "ipython",
    "version": 3
   },
   "file_extension": ".py",
   "mimetype": "text/x-python",
   "name": "python",
   "nbconvert_exporter": "python",
   "pygments_lexer": "ipython3",
   "version": "3.9.13"
  }
 },
 "nbformat": 4,
 "nbformat_minor": 5
}
