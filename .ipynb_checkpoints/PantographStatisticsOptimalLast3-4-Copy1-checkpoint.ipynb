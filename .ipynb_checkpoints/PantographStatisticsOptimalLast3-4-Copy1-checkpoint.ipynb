{
 "cells": [
  {
   "cell_type": "code",
   "execution_count": 1,
   "id": "89357435",
   "metadata": {},
   "outputs": [],
   "source": [
    "import numpy as np\n",
    "import matplotlib.pyplot as plt"
   ]
  },
  {
   "cell_type": "code",
   "execution_count": 2,
   "id": "b2198d46",
   "metadata": {},
   "outputs": [],
   "source": [
    "import pandas as pd"
   ]
  },
  {
   "cell_type": "code",
   "execution_count": 3,
   "id": "a8002864",
   "metadata": {},
   "outputs": [
    {
     "name": "stderr",
     "output_type": "stream",
     "text": [
      "C:\\ProgramData\\Anaconda3\\envs\\matplot\\lib\\site-packages\\openpyxl\\styles\\stylesheet.py:226: UserWarning: Workbook contains no default style, apply openpyxl's default\n",
      "  warn(\"Workbook contains no default style, apply openpyxl's default\")\n"
     ]
    }
   ],
   "source": [
    "#几何数据_20220929_135008_1\n",
    "incites = pd.read_excel(r'C:\\Users\\lenovo\\Desktop\\PantographStatistics\\HXD3D0308_20220101_0130-0430\\几何数据_20220929_151158_1.xlsx')"
   ]
  },
  {
   "cell_type": "code",
   "execution_count": 4,
   "id": "fd44abf9",
   "metadata": {},
   "outputs": [
    {
     "data": {
      "text/html": [
       "<div>\n",
       "<style scoped>\n",
       "    .dataframe tbody tr th:only-of-type {\n",
       "        vertical-align: middle;\n",
       "    }\n",
       "\n",
       "    .dataframe tbody tr th {\n",
       "        vertical-align: top;\n",
       "    }\n",
       "\n",
       "    .dataframe thead th {\n",
       "        text-align: right;\n",
       "    }\n",
       "</style>\n",
       "<table border=\"1\" class=\"dataframe\">\n",
       "  <thead>\n",
       "    <tr style=\"text-align: right;\">\n",
       "      <th></th>\n",
       "      <th>序号</th>\n",
       "      <th>车号</th>\n",
       "      <th>日期</th>\n",
       "      <th>时间</th>\n",
       "      <th>速度</th>\n",
       "      <th>线路名</th>\n",
       "      <th>行别</th>\n",
       "      <th>站点</th>\n",
       "      <th>杆号</th>\n",
       "      <th>公里标</th>\n",
       "      <th>...</th>\n",
       "      <th>弓端</th>\n",
       "      <th>车次</th>\n",
       "      <th>路局</th>\n",
       "      <th>供电段</th>\n",
       "      <th>环境温度</th>\n",
       "      <th>红外温度</th>\n",
       "      <th>拉出</th>\n",
       "      <th>导高</th>\n",
       "      <th>硬点1</th>\n",
       "      <th>硬点2</th>\n",
       "    </tr>\n",
       "  </thead>\n",
       "  <tbody>\n",
       "    <tr>\n",
       "      <th>0</th>\n",
       "      <td>0</td>\n",
       "      <td>HXD3D0308</td>\n",
       "      <td>2022-01-01</td>\n",
       "      <td>04:14:59.709</td>\n",
       "      <td>150</td>\n",
       "      <td>NaN</td>\n",
       "      <td>NaN</td>\n",
       "      <td>NaN</td>\n",
       "      <td>NaN</td>\n",
       "      <td>K27+111</td>\n",
       "      <td>...</td>\n",
       "      <td>B</td>\n",
       "      <td>271</td>\n",
       "      <td>NaN</td>\n",
       "      <td>NaN</td>\n",
       "      <td>1.0</td>\n",
       "      <td>5</td>\n",
       "      <td>-53</td>\n",
       "      <td>6007</td>\n",
       "      <td>0</td>\n",
       "      <td>0</td>\n",
       "    </tr>\n",
       "    <tr>\n",
       "      <th>1</th>\n",
       "      <td>1</td>\n",
       "      <td>HXD3D0308</td>\n",
       "      <td>2022-01-01</td>\n",
       "      <td>04:14:59.724</td>\n",
       "      <td>150</td>\n",
       "      <td>NaN</td>\n",
       "      <td>NaN</td>\n",
       "      <td>NaN</td>\n",
       "      <td>NaN</td>\n",
       "      <td>K27+111</td>\n",
       "      <td>...</td>\n",
       "      <td>B</td>\n",
       "      <td>271</td>\n",
       "      <td>NaN</td>\n",
       "      <td>NaN</td>\n",
       "      <td>1.0</td>\n",
       "      <td>5</td>\n",
       "      <td>140</td>\n",
       "      <td>6016</td>\n",
       "      <td>0</td>\n",
       "      <td>0</td>\n",
       "    </tr>\n",
       "    <tr>\n",
       "      <th>2</th>\n",
       "      <td>2</td>\n",
       "      <td>HXD3D0308</td>\n",
       "      <td>2022-01-01</td>\n",
       "      <td>04:14:59.744</td>\n",
       "      <td>150</td>\n",
       "      <td>NaN</td>\n",
       "      <td>NaN</td>\n",
       "      <td>NaN</td>\n",
       "      <td>NaN</td>\n",
       "      <td>K27+111</td>\n",
       "      <td>...</td>\n",
       "      <td>B</td>\n",
       "      <td>271</td>\n",
       "      <td>NaN</td>\n",
       "      <td>NaN</td>\n",
       "      <td>1.0</td>\n",
       "      <td>6</td>\n",
       "      <td>114</td>\n",
       "      <td>6016</td>\n",
       "      <td>0</td>\n",
       "      <td>0</td>\n",
       "    </tr>\n",
       "    <tr>\n",
       "      <th>3</th>\n",
       "      <td>3</td>\n",
       "      <td>HXD3D0308</td>\n",
       "      <td>2022-01-01</td>\n",
       "      <td>04:14:59.766</td>\n",
       "      <td>150</td>\n",
       "      <td>NaN</td>\n",
       "      <td>NaN</td>\n",
       "      <td>NaN</td>\n",
       "      <td>NaN</td>\n",
       "      <td>K27+111</td>\n",
       "      <td>...</td>\n",
       "      <td>B</td>\n",
       "      <td>271</td>\n",
       "      <td>NaN</td>\n",
       "      <td>NaN</td>\n",
       "      <td>1.0</td>\n",
       "      <td>5</td>\n",
       "      <td>83</td>\n",
       "      <td>6016</td>\n",
       "      <td>0</td>\n",
       "      <td>0</td>\n",
       "    </tr>\n",
       "    <tr>\n",
       "      <th>4</th>\n",
       "      <td>4</td>\n",
       "      <td>HXD3D0308</td>\n",
       "      <td>2022-01-01</td>\n",
       "      <td>04:14:59.786</td>\n",
       "      <td>150</td>\n",
       "      <td>NaN</td>\n",
       "      <td>NaN</td>\n",
       "      <td>NaN</td>\n",
       "      <td>NaN</td>\n",
       "      <td>K27+111</td>\n",
       "      <td>...</td>\n",
       "      <td>B</td>\n",
       "      <td>271</td>\n",
       "      <td>NaN</td>\n",
       "      <td>NaN</td>\n",
       "      <td>1.0</td>\n",
       "      <td>5</td>\n",
       "      <td>51</td>\n",
       "      <td>6016</td>\n",
       "      <td>0</td>\n",
       "      <td>0</td>\n",
       "    </tr>\n",
       "    <tr>\n",
       "      <th>...</th>\n",
       "      <td>...</td>\n",
       "      <td>...</td>\n",
       "      <td>...</td>\n",
       "      <td>...</td>\n",
       "      <td>...</td>\n",
       "      <td>...</td>\n",
       "      <td>...</td>\n",
       "      <td>...</td>\n",
       "      <td>...</td>\n",
       "      <td>...</td>\n",
       "      <td>...</td>\n",
       "      <td>...</td>\n",
       "      <td>...</td>\n",
       "      <td>...</td>\n",
       "      <td>...</td>\n",
       "      <td>...</td>\n",
       "      <td>...</td>\n",
       "      <td>...</td>\n",
       "      <td>...</td>\n",
       "      <td>...</td>\n",
       "      <td>...</td>\n",
       "    </tr>\n",
       "    <tr>\n",
       "      <th>39995</th>\n",
       "      <td>39995</td>\n",
       "      <td>HXD3D0308</td>\n",
       "      <td>2022-01-01</td>\n",
       "      <td>04:28:12.868</td>\n",
       "      <td>59</td>\n",
       "      <td>NaN</td>\n",
       "      <td>NaN</td>\n",
       "      <td>NaN</td>\n",
       "      <td>NaN</td>\n",
       "      <td>K8+548</td>\n",
       "      <td>...</td>\n",
       "      <td>B</td>\n",
       "      <td>271</td>\n",
       "      <td>NaN</td>\n",
       "      <td>NaN</td>\n",
       "      <td>4.1</td>\n",
       "      <td>7</td>\n",
       "      <td>59</td>\n",
       "      <td>6153</td>\n",
       "      <td>0</td>\n",
       "      <td>0</td>\n",
       "    </tr>\n",
       "    <tr>\n",
       "      <th>39996</th>\n",
       "      <td>39996</td>\n",
       "      <td>HXD3D0308</td>\n",
       "      <td>2022-01-01</td>\n",
       "      <td>04:28:12.889</td>\n",
       "      <td>59</td>\n",
       "      <td>NaN</td>\n",
       "      <td>NaN</td>\n",
       "      <td>NaN</td>\n",
       "      <td>NaN</td>\n",
       "      <td>K8+548</td>\n",
       "      <td>...</td>\n",
       "      <td>B</td>\n",
       "      <td>271</td>\n",
       "      <td>NaN</td>\n",
       "      <td>NaN</td>\n",
       "      <td>4.1</td>\n",
       "      <td>7</td>\n",
       "      <td>61</td>\n",
       "      <td>6153</td>\n",
       "      <td>0</td>\n",
       "      <td>0</td>\n",
       "    </tr>\n",
       "    <tr>\n",
       "      <th>39997</th>\n",
       "      <td>39997</td>\n",
       "      <td>HXD3D0308</td>\n",
       "      <td>2022-01-01</td>\n",
       "      <td>04:28:12.908</td>\n",
       "      <td>59</td>\n",
       "      <td>NaN</td>\n",
       "      <td>NaN</td>\n",
       "      <td>NaN</td>\n",
       "      <td>NaN</td>\n",
       "      <td>K8+548</td>\n",
       "      <td>...</td>\n",
       "      <td>B</td>\n",
       "      <td>271</td>\n",
       "      <td>NaN</td>\n",
       "      <td>NaN</td>\n",
       "      <td>4.1</td>\n",
       "      <td>7</td>\n",
       "      <td>62</td>\n",
       "      <td>6153</td>\n",
       "      <td>0</td>\n",
       "      <td>0</td>\n",
       "    </tr>\n",
       "    <tr>\n",
       "      <th>39998</th>\n",
       "      <td>39998</td>\n",
       "      <td>HXD3D0308</td>\n",
       "      <td>2022-01-01</td>\n",
       "      <td>04:28:12.928</td>\n",
       "      <td>59</td>\n",
       "      <td>NaN</td>\n",
       "      <td>NaN</td>\n",
       "      <td>NaN</td>\n",
       "      <td>NaN</td>\n",
       "      <td>K8+548</td>\n",
       "      <td>...</td>\n",
       "      <td>B</td>\n",
       "      <td>271</td>\n",
       "      <td>NaN</td>\n",
       "      <td>NaN</td>\n",
       "      <td>4.1</td>\n",
       "      <td>7</td>\n",
       "      <td>64</td>\n",
       "      <td>6153</td>\n",
       "      <td>0</td>\n",
       "      <td>0</td>\n",
       "    </tr>\n",
       "    <tr>\n",
       "      <th>39999</th>\n",
       "      <td>39999</td>\n",
       "      <td>HXD3D0308</td>\n",
       "      <td>2022-01-01</td>\n",
       "      <td>04:28:12.947</td>\n",
       "      <td>59</td>\n",
       "      <td>NaN</td>\n",
       "      <td>NaN</td>\n",
       "      <td>NaN</td>\n",
       "      <td>NaN</td>\n",
       "      <td>K8+548</td>\n",
       "      <td>...</td>\n",
       "      <td>B</td>\n",
       "      <td>271</td>\n",
       "      <td>NaN</td>\n",
       "      <td>NaN</td>\n",
       "      <td>4.1</td>\n",
       "      <td>7</td>\n",
       "      <td>66</td>\n",
       "      <td>6153</td>\n",
       "      <td>0</td>\n",
       "      <td>0</td>\n",
       "    </tr>\n",
       "  </tbody>\n",
       "</table>\n",
       "<p>40000 rows × 26 columns</p>\n",
       "</div>"
      ],
      "text/plain": [
       "          序号         车号          日期            时间   速度  线路名  行别  站点  杆号  \\\n",
       "0          0  HXD3D0308  2022-01-01  04:14:59.709  150  NaN NaN NaN NaN   \n",
       "1          1  HXD3D0308  2022-01-01  04:14:59.724  150  NaN NaN NaN NaN   \n",
       "2          2  HXD3D0308  2022-01-01  04:14:59.744  150  NaN NaN NaN NaN   \n",
       "3          3  HXD3D0308  2022-01-01  04:14:59.766  150  NaN NaN NaN NaN   \n",
       "4          4  HXD3D0308  2022-01-01  04:14:59.786  150  NaN NaN NaN NaN   \n",
       "...      ...        ...         ...           ...  ...  ...  ..  ..  ..   \n",
       "39995  39995  HXD3D0308  2022-01-01  04:28:12.868   59  NaN NaN NaN NaN   \n",
       "39996  39996  HXD3D0308  2022-01-01  04:28:12.889   59  NaN NaN NaN NaN   \n",
       "39997  39997  HXD3D0308  2022-01-01  04:28:12.908   59  NaN NaN NaN NaN   \n",
       "39998  39998  HXD3D0308  2022-01-01  04:28:12.928   59  NaN NaN NaN NaN   \n",
       "39999  39999  HXD3D0308  2022-01-01  04:28:12.947   59  NaN NaN NaN NaN   \n",
       "\n",
       "           公里标  ...  弓端   车次  路局  供电段  环境温度 红外温度   拉出    导高  硬点1  硬点2  \n",
       "0      K27+111  ...   B  271 NaN  NaN   1.0    5  -53  6007    0    0  \n",
       "1      K27+111  ...   B  271 NaN  NaN   1.0    5  140  6016    0    0  \n",
       "2      K27+111  ...   B  271 NaN  NaN   1.0    6  114  6016    0    0  \n",
       "3      K27+111  ...   B  271 NaN  NaN   1.0    5   83  6016    0    0  \n",
       "4      K27+111  ...   B  271 NaN  NaN   1.0    5   51  6016    0    0  \n",
       "...        ...  ...  ..  ...  ..  ...   ...  ...  ...   ...  ...  ...  \n",
       "39995   K8+548  ...   B  271 NaN  NaN   4.1    7   59  6153    0    0  \n",
       "39996   K8+548  ...   B  271 NaN  NaN   4.1    7   61  6153    0    0  \n",
       "39997   K8+548  ...   B  271 NaN  NaN   4.1    7   62  6153    0    0  \n",
       "39998   K8+548  ...   B  271 NaN  NaN   4.1    7   64  6153    0    0  \n",
       "39999   K8+548  ...   B  271 NaN  NaN   4.1    7   66  6153    0    0  \n",
       "\n",
       "[40000 rows x 26 columns]"
      ]
     },
     "execution_count": 4,
     "metadata": {},
     "output_type": "execute_result"
    }
   ],
   "source": [
    "incites"
   ]
  },
  {
   "cell_type": "code",
   "execution_count": 5,
   "id": "286757ec",
   "metadata": {},
   "outputs": [
    {
     "data": {
      "text/plain": [
       "[<matplotlib.lines.Line2D at 0x1f4a6d5d670>]"
      ]
     },
     "execution_count": 5,
     "metadata": {},
     "output_type": "execute_result"
    },
    {
     "data": {
      "image/png": "[encoded data removed]",
      "text/plain": [
       "<Figure size 432x288 with 1 Axes>"
      ]
     },
     "metadata": {
      "needs_background": "light"
     },
     "output_type": "display_data"
    }
   ],
   "source": [
    "plt.plot(incites['拉出'])"
   ]
  },
  {
   "cell_type": "code",
   "execution_count": 6,
   "id": "a7c303ad",
   "metadata": {},
   "outputs": [],
   "source": [
    "import seaborn as sns"
   ]
  },
  {
   "cell_type": "code",
   "execution_count": 7,
   "id": "ec6ac3ef",
   "metadata": {},
   "outputs": [
    {
     "data": {
      "text/plain": [
       "<AxesSubplot: >"
      ]
     },
     "execution_count": 7,
     "metadata": {},
     "output_type": "execute_result"
    },
    {
     "data": {
      "image/png": "[encoded data removed]",
      "text/plain": [
       "<Figure size 432x288 with 1 Axes>"
      ]
     },
     "metadata": {
      "needs_background": "light"
     },
     "output_type": "display_data"
    }
   ],
   "source": [
    "sns.boxplot(data=incites['拉出'],orient='h',showmeans=True,flierprops = dict(marker='o', markersize=5),width=0.2)"
   ]
  },
  {
   "cell_type": "code",
   "execution_count": 8,
   "id": "8044d162",
   "metadata": {},
   "outputs": [],
   "source": [
    "s = incites['拉出']"
   ]
  },
  {
   "cell_type": "code",
   "execution_count": 9,
   "id": "e977dec7",
   "metadata": {},
   "outputs": [
    {
     "name": "stdout",
     "output_type": "stream",
     "text": [
      "20.0\n"
     ]
    }
   ],
   "source": [
    "print(s.median())"
   ]
  },
  {
   "cell_type": "code",
   "execution_count": 10,
   "id": "0ea51475",
   "metadata": {},
   "outputs": [
    {
     "name": "stdout",
     "output_type": "stream",
     "text": [
      "-198.0\n"
     ]
    }
   ],
   "source": [
    "print(s.quantile(0.25))"
   ]
  },
  {
   "cell_type": "code",
   "execution_count": 11,
   "id": "1bbd0cd5",
   "metadata": {},
   "outputs": [
    {
     "name": "stdout",
     "output_type": "stream",
     "text": [
      "161.0\n"
     ]
    }
   ],
   "source": [
    "print(s.quantile(0.75))"
   ]
  },
  {
   "cell_type": "code",
   "execution_count": 12,
   "id": "dc4f3e57",
   "metadata": {},
   "outputs": [
    {
     "data": {
      "text/plain": [
       "0          NaN\n",
       "1        193.0\n",
       "2        -26.0\n",
       "3        -31.0\n",
       "4        -32.0\n",
       "         ...  \n",
       "39995      3.0\n",
       "39996      2.0\n",
       "39997      1.0\n",
       "39998      2.0\n",
       "39999      2.0\n",
       "Name: 拉出, Length: 40000, dtype: float64"
      ]
     },
     "execution_count": 12,
     "metadata": {},
     "output_type": "execute_result"
    }
   ],
   "source": [
    "incites['拉出'].diff()"
   ]
  },
  {
   "cell_type": "code",
   "execution_count": 13,
   "id": "d72c1455",
   "metadata": {},
   "outputs": [
    {
     "data": {
      "text/plain": [
       "[<matplotlib.lines.Line2D at 0x1f4a852dc10>]"
      ]
     },
     "execution_count": 13,
     "metadata": {},
     "output_type": "execute_result"
    },
    {
     "data": {
      "image/png": "[encoded data removed]",
      "text/plain": [
       "<Figure size 432x288 with 1 Axes>"
      ]
     },
     "metadata": {
      "needs_background": "light"
     },
     "output_type": "display_data"
    }
   ],
   "source": [
    "plt.plot(incites['拉出'].diff())"
   ]
  },
  {
   "cell_type": "code",
   "execution_count": 14,
   "id": "6a539683",
   "metadata": {},
   "outputs": [],
   "source": [
    "sdiff=incites['拉出'].diff()"
   ]
  },
  {
   "cell_type": "code",
   "execution_count": 15,
   "id": "f8b3ee49",
   "metadata": {},
   "outputs": [
    {
     "data": {
      "text/plain": [
       "<AxesSubplot: >"
      ]
     },
     "execution_count": 15,
     "metadata": {},
     "output_type": "execute_result"
    },
    {
     "data": {
      "image/png": "[encoded data removed]",
      "text/plain": [
       "<Figure size 432x288 with 1 Axes>"
      ]
     },
     "metadata": {
      "needs_background": "light"
     },
     "output_type": "display_data"
    }
   ],
   "source": [
    "sns.boxplot(data=incites['拉出'].diff(),orient='h',showmeans=True,flierprops = dict(marker='o', markersize=5),width=0.2)"
   ]
  },
  {
   "cell_type": "code",
   "execution_count": 16,
   "id": "808d4dce",
   "metadata": {},
   "outputs": [
    {
     "data": {
      "text/plain": [
       "-3.0"
      ]
     },
     "execution_count": 16,
     "metadata": {},
     "output_type": "execute_result"
    }
   ],
   "source": [
    "sdiff.quantile(0.25)"
   ]
  },
  {
   "cell_type": "code",
   "execution_count": 17,
   "id": "961f5e9b",
   "metadata": {},
   "outputs": [
    {
     "data": {
      "text/plain": [
       "4.0"
      ]
     },
     "execution_count": 17,
     "metadata": {},
     "output_type": "execute_result"
    }
   ],
   "source": [
    "sdiff.quantile(0.75)"
   ]
  }
 ],
 "metadata": {
  "kernelspec": {
   "display_name": "Python 3 (ipykernel)",
   "language": "python",
   "name": "python3"
  },
  "language_info": {
   "codemirror_mode": {
    "name": "ipython",
    "version": 3
   },
   "file_extension": ".py",
   "mimetype": "text/x-python",
   "name": "python",
   "nbconvert_exporter": "python",
   "pygments_lexer": "ipython3",
   "version": "3.9.13"
  }
 },
 "nbformat": 4,
 "nbformat_minor": 5
}
