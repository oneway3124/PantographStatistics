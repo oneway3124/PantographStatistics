{
 "cells": [
  {
   "cell_type": "code",
   "execution_count": 1,
   "id": "89357435",
   "metadata": {},
   "outputs": [],
   "source": [
    "import numpy as np\n",
    "import matplotlib.pyplot as plt"
   ]
  },
  {
   "cell_type": "code",
   "execution_count": 2,
   "id": "b2198d46",
   "metadata": {},
   "outputs": [],
   "source": [
    "import pandas as pd"
   ]
  },
  {
   "cell_type": "code",
   "execution_count": 3,
   "id": "a8002864",
   "metadata": {},
   "outputs": [],
   "source": [
    "#几何数据_20220929_135008_1\n",
    "incites = pd.read_excel(r'C:\\Users\\lenovo\\Desktop\\PantographStatistics\\HXD3D0308_20220101_0130-0430\\output.xlsx')"
   ]
  },
  {
   "cell_type": "code",
   "execution_count": 4,
   "id": "fd44abf9",
   "metadata": {},
   "outputs": [
    {
     "data": {
      "text/html": [
       "<div>\n",
       "<style scoped>\n",
       "    .dataframe tbody tr th:only-of-type {\n",
       "        vertical-align: middle;\n",
       "    }\n",
       "\n",
       "    .dataframe tbody tr th {\n",
       "        vertical-align: top;\n",
       "    }\n",
       "\n",
       "    .dataframe thead th {\n",
       "        text-align: right;\n",
       "    }\n",
       "</style>\n",
       "<table border=\"1\" class=\"dataframe\">\n",
       "  <thead>\n",
       "    <tr style=\"text-align: right;\">\n",
       "      <th></th>\n",
       "      <th>序号</th>\n",
       "      <th>车号</th>\n",
       "      <th>日期</th>\n",
       "      <th>时间</th>\n",
       "      <th>速度</th>\n",
       "      <th>线路名</th>\n",
       "      <th>行别</th>\n",
       "      <th>站点</th>\n",
       "      <th>杆号</th>\n",
       "      <th>公里标</th>\n",
       "      <th>...</th>\n",
       "      <th>弓端</th>\n",
       "      <th>车次</th>\n",
       "      <th>路局</th>\n",
       "      <th>供电段</th>\n",
       "      <th>环境温度</th>\n",
       "      <th>红外温度</th>\n",
       "      <th>拉出</th>\n",
       "      <th>导高</th>\n",
       "      <th>硬点1</th>\n",
       "      <th>硬点2</th>\n",
       "    </tr>\n",
       "  </thead>\n",
       "  <tbody>\n",
       "    <tr>\n",
       "      <th>0</th>\n",
       "      <td>40000</td>\n",
       "      <td>HXD3D0308</td>\n",
       "      <td>2022-01-01</td>\n",
       "      <td>04:28:12.967</td>\n",
       "      <td>59</td>\n",
       "      <td>NaN</td>\n",
       "      <td>NaN</td>\n",
       "      <td>NaN</td>\n",
       "      <td>NaN</td>\n",
       "      <td>K8+548</td>\n",
       "      <td>...</td>\n",
       "      <td>B</td>\n",
       "      <td>271</td>\n",
       "      <td>NaN</td>\n",
       "      <td>NaN</td>\n",
       "      <td>4.1</td>\n",
       "      <td>7</td>\n",
       "      <td>67</td>\n",
       "      <td>6153</td>\n",
       "      <td>0</td>\n",
       "      <td>0</td>\n",
       "    </tr>\n",
       "    <tr>\n",
       "      <th>1</th>\n",
       "      <td>40001</td>\n",
       "      <td>HXD3D0308</td>\n",
       "      <td>2022-01-01</td>\n",
       "      <td>04:28:12.987</td>\n",
       "      <td>59</td>\n",
       "      <td>NaN</td>\n",
       "      <td>NaN</td>\n",
       "      <td>NaN</td>\n",
       "      <td>NaN</td>\n",
       "      <td>K8+548</td>\n",
       "      <td>...</td>\n",
       "      <td>B</td>\n",
       "      <td>271</td>\n",
       "      <td>NaN</td>\n",
       "      <td>NaN</td>\n",
       "      <td>4.1</td>\n",
       "      <td>7</td>\n",
       "      <td>70</td>\n",
       "      <td>6153</td>\n",
       "      <td>0</td>\n",
       "      <td>0</td>\n",
       "    </tr>\n",
       "    <tr>\n",
       "      <th>2</th>\n",
       "      <td>40002</td>\n",
       "      <td>HXD3D0308</td>\n",
       "      <td>2022-01-01</td>\n",
       "      <td>04:28:13.010</td>\n",
       "      <td>59</td>\n",
       "      <td>NaN</td>\n",
       "      <td>NaN</td>\n",
       "      <td>NaN</td>\n",
       "      <td>NaN</td>\n",
       "      <td>K8+548</td>\n",
       "      <td>...</td>\n",
       "      <td>B</td>\n",
       "      <td>271</td>\n",
       "      <td>NaN</td>\n",
       "      <td>NaN</td>\n",
       "      <td>4.1</td>\n",
       "      <td>7</td>\n",
       "      <td>73</td>\n",
       "      <td>6153</td>\n",
       "      <td>0</td>\n",
       "      <td>0</td>\n",
       "    </tr>\n",
       "    <tr>\n",
       "      <th>3</th>\n",
       "      <td>40003</td>\n",
       "      <td>HXD3D0308</td>\n",
       "      <td>2022-01-01</td>\n",
       "      <td>04:28:13.026</td>\n",
       "      <td>59</td>\n",
       "      <td>NaN</td>\n",
       "      <td>NaN</td>\n",
       "      <td>NaN</td>\n",
       "      <td>NaN</td>\n",
       "      <td>K8+548</td>\n",
       "      <td>...</td>\n",
       "      <td>B</td>\n",
       "      <td>271</td>\n",
       "      <td>NaN</td>\n",
       "      <td>NaN</td>\n",
       "      <td>4.1</td>\n",
       "      <td>7</td>\n",
       "      <td>76</td>\n",
       "      <td>6153</td>\n",
       "      <td>0</td>\n",
       "      <td>0</td>\n",
       "    </tr>\n",
       "    <tr>\n",
       "      <th>4</th>\n",
       "      <td>40004</td>\n",
       "      <td>HXD3D0308</td>\n",
       "      <td>2022-01-01</td>\n",
       "      <td>04:28:13.046</td>\n",
       "      <td>59</td>\n",
       "      <td>NaN</td>\n",
       "      <td>NaN</td>\n",
       "      <td>NaN</td>\n",
       "      <td>NaN</td>\n",
       "      <td>K8+548</td>\n",
       "      <td>...</td>\n",
       "      <td>B</td>\n",
       "      <td>271</td>\n",
       "      <td>NaN</td>\n",
       "      <td>NaN</td>\n",
       "      <td>4.1</td>\n",
       "      <td>7</td>\n",
       "      <td>79</td>\n",
       "      <td>6153</td>\n",
       "      <td>0</td>\n",
       "      <td>0</td>\n",
       "    </tr>\n",
       "    <tr>\n",
       "      <th>...</th>\n",
       "      <td>...</td>\n",
       "      <td>...</td>\n",
       "      <td>...</td>\n",
       "      <td>...</td>\n",
       "      <td>...</td>\n",
       "      <td>...</td>\n",
       "      <td>...</td>\n",
       "      <td>...</td>\n",
       "      <td>...</td>\n",
       "      <td>...</td>\n",
       "      <td>...</td>\n",
       "      <td>...</td>\n",
       "      <td>...</td>\n",
       "      <td>...</td>\n",
       "      <td>...</td>\n",
       "      <td>...</td>\n",
       "      <td>...</td>\n",
       "      <td>...</td>\n",
       "      <td>...</td>\n",
       "      <td>...</td>\n",
       "      <td>...</td>\n",
       "    </tr>\n",
       "    <tr>\n",
       "      <th>5432</th>\n",
       "      <td>45432</td>\n",
       "      <td>HXD3D0308</td>\n",
       "      <td>2022-01-01</td>\n",
       "      <td>04:30:00.356</td>\n",
       "      <td>49</td>\n",
       "      <td>NaN</td>\n",
       "      <td>NaN</td>\n",
       "      <td>NaN</td>\n",
       "      <td>NaN</td>\n",
       "      <td>K6+777</td>\n",
       "      <td>...</td>\n",
       "      <td>B</td>\n",
       "      <td>271</td>\n",
       "      <td>NaN</td>\n",
       "      <td>NaN</td>\n",
       "      <td>4.3</td>\n",
       "      <td>5</td>\n",
       "      <td>-1000</td>\n",
       "      <td>6350</td>\n",
       "      <td>0</td>\n",
       "      <td>0</td>\n",
       "    </tr>\n",
       "    <tr>\n",
       "      <th>5433</th>\n",
       "      <td>45433</td>\n",
       "      <td>HXD3D0308</td>\n",
       "      <td>2022-01-01</td>\n",
       "      <td>04:30:00.375</td>\n",
       "      <td>49</td>\n",
       "      <td>NaN</td>\n",
       "      <td>NaN</td>\n",
       "      <td>NaN</td>\n",
       "      <td>NaN</td>\n",
       "      <td>K6+777</td>\n",
       "      <td>...</td>\n",
       "      <td>B</td>\n",
       "      <td>271</td>\n",
       "      <td>NaN</td>\n",
       "      <td>NaN</td>\n",
       "      <td>4.3</td>\n",
       "      <td>6</td>\n",
       "      <td>-1000</td>\n",
       "      <td>6350</td>\n",
       "      <td>0</td>\n",
       "      <td>0</td>\n",
       "    </tr>\n",
       "    <tr>\n",
       "      <th>5434</th>\n",
       "      <td>45434</td>\n",
       "      <td>HXD3D0308</td>\n",
       "      <td>2022-01-01</td>\n",
       "      <td>04:30:00.395</td>\n",
       "      <td>49</td>\n",
       "      <td>NaN</td>\n",
       "      <td>NaN</td>\n",
       "      <td>NaN</td>\n",
       "      <td>NaN</td>\n",
       "      <td>K6+777</td>\n",
       "      <td>...</td>\n",
       "      <td>B</td>\n",
       "      <td>271</td>\n",
       "      <td>NaN</td>\n",
       "      <td>NaN</td>\n",
       "      <td>4.3</td>\n",
       "      <td>6</td>\n",
       "      <td>-1000</td>\n",
       "      <td>6350</td>\n",
       "      <td>0</td>\n",
       "      <td>0</td>\n",
       "    </tr>\n",
       "    <tr>\n",
       "      <th>5435</th>\n",
       "      <td>45435</td>\n",
       "      <td>HXD3D0308</td>\n",
       "      <td>2022-01-01</td>\n",
       "      <td>04:30:00.415</td>\n",
       "      <td>49</td>\n",
       "      <td>NaN</td>\n",
       "      <td>NaN</td>\n",
       "      <td>NaN</td>\n",
       "      <td>NaN</td>\n",
       "      <td>K6+777</td>\n",
       "      <td>...</td>\n",
       "      <td>B</td>\n",
       "      <td>271</td>\n",
       "      <td>NaN</td>\n",
       "      <td>NaN</td>\n",
       "      <td>4.3</td>\n",
       "      <td>5</td>\n",
       "      <td>-1000</td>\n",
       "      <td>6333</td>\n",
       "      <td>0</td>\n",
       "      <td>0</td>\n",
       "    </tr>\n",
       "    <tr>\n",
       "      <th>5436</th>\n",
       "      <td>45436</td>\n",
       "      <td>HXD3D0308</td>\n",
       "      <td>2022-01-01</td>\n",
       "      <td>04:30:00.435</td>\n",
       "      <td>49</td>\n",
       "      <td>NaN</td>\n",
       "      <td>NaN</td>\n",
       "      <td>NaN</td>\n",
       "      <td>NaN</td>\n",
       "      <td>K6+777</td>\n",
       "      <td>...</td>\n",
       "      <td>B</td>\n",
       "      <td>271</td>\n",
       "      <td>NaN</td>\n",
       "      <td>NaN</td>\n",
       "      <td>4.3</td>\n",
       "      <td>6</td>\n",
       "      <td>-1000</td>\n",
       "      <td>6350</td>\n",
       "      <td>0</td>\n",
       "      <td>0</td>\n",
       "    </tr>\n",
       "  </tbody>\n",
       "</table>\n",
       "<p>5437 rows × 26 columns</p>\n",
       "</div>"
      ],
      "text/plain": [
       "         序号         车号          日期            时间  速度  线路名  行别  站点  杆号     公里标  \\\n",
       "0     40000  HXD3D0308  2022-01-01  04:28:12.967  59  NaN NaN NaN NaN  K8+548   \n",
       "1     40001  HXD3D0308  2022-01-01  04:28:12.987  59  NaN NaN NaN NaN  K8+548   \n",
       "2     40002  HXD3D0308  2022-01-01  04:28:13.010  59  NaN NaN NaN NaN  K8+548   \n",
       "3     40003  HXD3D0308  2022-01-01  04:28:13.026  59  NaN NaN NaN NaN  K8+548   \n",
       "4     40004  HXD3D0308  2022-01-01  04:28:13.046  59  NaN NaN NaN NaN  K8+548   \n",
       "...     ...        ...         ...           ...  ..  ...  ..  ..  ..     ...   \n",
       "5432  45432  HXD3D0308  2022-01-01  04:30:00.356  49  NaN NaN NaN NaN  K6+777   \n",
       "5433  45433  HXD3D0308  2022-01-01  04:30:00.375  49  NaN NaN NaN NaN  K6+777   \n",
       "5434  45434  HXD3D0308  2022-01-01  04:30:00.395  49  NaN NaN NaN NaN  K6+777   \n",
       "5435  45435  HXD3D0308  2022-01-01  04:30:00.415  49  NaN NaN NaN NaN  K6+777   \n",
       "5436  45436  HXD3D0308  2022-01-01  04:30:00.435  49  NaN NaN NaN NaN  K6+777   \n",
       "\n",
       "      ...  弓端   车次  路局  供电段  环境温度 红外温度    拉出    导高  硬点1  硬点2  \n",
       "0     ...   B  271 NaN  NaN   4.1    7    67  6153    0    0  \n",
       "1     ...   B  271 NaN  NaN   4.1    7    70  6153    0    0  \n",
       "2     ...   B  271 NaN  NaN   4.1    7    73  6153    0    0  \n",
       "3     ...   B  271 NaN  NaN   4.1    7    76  6153    0    0  \n",
       "4     ...   B  271 NaN  NaN   4.1    7    79  6153    0    0  \n",
       "...   ...  ..  ...  ..  ...   ...  ...   ...   ...  ...  ...  \n",
       "5432  ...   B  271 NaN  NaN   4.3    5 -1000  6350    0    0  \n",
       "5433  ...   B  271 NaN  NaN   4.3    6 -1000  6350    0    0  \n",
       "5434  ...   B  271 NaN  NaN   4.3    6 -1000  6350    0    0  \n",
       "5435  ...   B  271 NaN  NaN   4.3    5 -1000  6333    0    0  \n",
       "5436  ...   B  271 NaN  NaN   4.3    6 -1000  6350    0    0  \n",
       "\n",
       "[5437 rows x 26 columns]"
      ]
     },
     "execution_count": 4,
     "metadata": {},
     "output_type": "execute_result"
    }
   ],
   "source": [
    "incites"
   ]
  },
  {
   "cell_type": "code",
   "execution_count": 5,
   "id": "286757ec",
   "metadata": {},
   "outputs": [
    {
     "data": {
      "text/plain": [
       "[<matplotlib.lines.Line2D at 0x14bea7462b0>]"
      ]
     },
     "execution_count": 5,
     "metadata": {},
     "output_type": "execute_result"
    },
    {
     "data": {
      "image/png": "[encoded data removed]",
      "text/plain": [
       "<Figure size 432x288 with 1 Axes>"
      ]
     },
     "metadata": {
      "needs_background": "light"
     },
     "output_type": "display_data"
    }
   ],
   "source": [
    "plt.plot(incites['拉出'])"
   ]
  },
  {
   "cell_type": "code",
   "execution_count": 6,
   "id": "a7c303ad",
   "metadata": {},
   "outputs": [],
   "source": [
    "import seaborn as sns"
   ]
  },
  {
   "cell_type": "code",
   "execution_count": 7,
   "id": "ec6ac3ef",
   "metadata": {},
   "outputs": [
    {
     "data": {
      "text/plain": [
       "<AxesSubplot: >"
      ]
     },
     "execution_count": 7,
     "metadata": {},
     "output_type": "execute_result"
    },
    {
     "data": {
      "image/png": "[encoded data removed]",
      "text/plain": [
       "<Figure size 432x288 with 1 Axes>"
      ]
     },
     "metadata": {
      "needs_background": "light"
     },
     "output_type": "display_data"
    }
   ],
   "source": [
    "sns.boxplot(data=incites['拉出'],orient='h',showmeans=True,flierprops = dict(marker='o', markersize=5),width=0.2)"
   ]
  },
  {
   "cell_type": "code",
   "execution_count": 8,
   "id": "8044d162",
   "metadata": {},
   "outputs": [],
   "source": [
    "s = incites['拉出']"
   ]
  },
  {
   "cell_type": "code",
   "execution_count": 9,
   "id": "e977dec7",
   "metadata": {},
   "outputs": [
    {
     "name": "stdout",
     "output_type": "stream",
     "text": [
      "-4.0\n"
     ]
    }
   ],
   "source": [
    "print(s.median())"
   ]
  },
  {
   "cell_type": "code",
   "execution_count": 10,
   "id": "0ea51475",
   "metadata": {},
   "outputs": [
    {
     "name": "stdout",
     "output_type": "stream",
     "text": [
      "-120.0\n"
     ]
    }
   ],
   "source": [
    "print(s.quantile(0.25))"
   ]
  },
  {
   "cell_type": "code",
   "execution_count": 12,
   "id": "1bbd0cd5",
   "metadata": {},
   "outputs": [
    {
     "name": "stdout",
     "output_type": "stream",
     "text": [
      "113.0\n"
     ]
    }
   ],
   "source": [
    "print(s.quantile(0.75))"
   ]
  },
  {
   "cell_type": "code",
   "execution_count": 13,
   "id": "dc4f3e57",
   "metadata": {},
   "outputs": [
    {
     "data": {
      "text/plain": [
       "0       NaN\n",
       "1       3.0\n",
       "2       3.0\n",
       "3       3.0\n",
       "4       3.0\n",
       "       ... \n",
       "5432    0.0\n",
       "5433    0.0\n",
       "5434    0.0\n",
       "5435    0.0\n",
       "5436    0.0\n",
       "Name: 拉出, Length: 5437, dtype: float64"
      ]
     },
     "execution_count": 13,
     "metadata": {},
     "output_type": "execute_result"
    }
   ],
   "source": [
    "incites['拉出'].diff()"
   ]
  },
  {
   "cell_type": "code",
   "execution_count": 14,
   "id": "d72c1455",
   "metadata": {},
   "outputs": [
    {
     "data": {
      "text/plain": [
       "[<matplotlib.lines.Line2D at 0x14bec0182e0>]"
      ]
     },
     "execution_count": 14,
     "metadata": {},
     "output_type": "execute_result"
    },
    {
     "data": {
      "image/png": "[encoded data removed]",
      "text/plain": [
       "<Figure size 432x288 with 1 Axes>"
      ]
     },
     "metadata": {
      "needs_background": "light"
     },
     "output_type": "display_data"
    }
   ],
   "source": [
    "plt.plot(incites['拉出'].diff())"
   ]
  },
  {
   "cell_type": "code",
   "execution_count": 15,
   "id": "6a539683",
   "metadata": {},
   "outputs": [],
   "source": [
    "sdiff=incites['拉出'].diff()"
   ]
  },
  {
   "cell_type": "code",
   "execution_count": 16,
   "id": "f8b3ee49",
   "metadata": {},
   "outputs": [
    {
     "data": {
      "text/plain": [
       "<AxesSubplot: >"
      ]
     },
     "execution_count": 16,
     "metadata": {},
     "output_type": "execute_result"
    },
    {
     "data": {
      "image/png": "[encoded data removed]",
      "text/plain": [
       "<Figure size 432x288 with 1 Axes>"
      ]
     },
     "metadata": {
      "needs_background": "light"
     },
     "output_type": "display_data"
    }
   ],
   "source": [
    "sns.boxplot(data=incites['拉出'].diff(),orient='h',showmeans=True,flierprops = dict(marker='o', markersize=5),width=0.2)"
   ]
  },
  {
   "cell_type": "code",
   "execution_count": 17,
   "id": "808d4dce",
   "metadata": {},
   "outputs": [
    {
     "data": {
      "text/plain": [
       "-5.0"
      ]
     },
     "execution_count": 17,
     "metadata": {},
     "output_type": "execute_result"
    }
   ],
   "source": [
    "sdiff.quantile(0.25)"
   ]
  },
  {
   "cell_type": "code",
   "execution_count": 18,
   "id": "961f5e9b",
   "metadata": {},
   "outputs": [
    {
     "data": {
      "text/plain": [
       "5.0"
      ]
     },
     "execution_count": 18,
     "metadata": {},
     "output_type": "execute_result"
    }
   ],
   "source": [
    "sdiff.quantile(0.75)"
   ]
  }
 ],
 "metadata": {
  "kernelspec": {
   "display_name": "Python 3 (ipykernel)",
   "language": "python",
   "name": "python3"
  },
  "language_info": {
   "codemirror_mode": {
    "name": "ipython",
    "version": 3
   },
   "file_extension": ".py",
   "mimetype": "text/x-python",
   "name": "python",
   "nbconvert_exporter": "python",
   "pygments_lexer": "ipython3",
   "version": "3.9.13"
  }
 },
 "nbformat": 4,
 "nbformat_minor": 5
}
