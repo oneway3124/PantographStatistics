{
 "cells": [
  {
   "cell_type": "code",
   "execution_count": 1,
   "id": "89357435",
   "metadata": {},
   "outputs": [],
   "source": [
    "import numpy as np\n",
    "import matplotlib.pyplot as plt\n"
   ]
  },
  {
   "cell_type": "code",
   "execution_count": 2,
   "id": "b2198d46",
   "metadata": {},
   "outputs": [],
   "source": [
    "import pandas as pd"
   ]
  },
  {
   "cell_type": "code",
   "execution_count": 8,
   "id": "a8002864",
   "metadata": {},
   "outputs": [
    {
     "name": "stderr",
     "output_type": "stream",
     "text": [
      "C:\\ProgramData\\Anaconda3\\envs\\matplot\\lib\\site-packages\\openpyxl\\styles\\stylesheet.py:226: UserWarning: Workbook contains no default style, apply openpyxl's default\n",
      "  warn(\"Workbook contains no default style, apply openpyxl's default\")\n"
     ]
    }
   ],
   "source": [
    "#几何数据_20220929_135008_1\n",
    "incites = pd.read_excel(r'C:\\Users\\lenovo\\Desktop\\PantographStatistics\\几何数据_20220929_135008_1.xlsx')"
   ]
  },
  {
   "cell_type": "code",
   "execution_count": 4,
   "id": "fd44abf9",
   "metadata": {},
   "outputs": [
    {
     "data": {
      "text/html": [
       "<div>\n",
       "<style scoped>\n",
       "    .dataframe tbody tr th:only-of-type {\n",
       "        vertical-align: middle;\n",
       "    }\n",
       "\n",
       "    .dataframe tbody tr th {\n",
       "        vertical-align: top;\n",
       "    }\n",
       "\n",
       "    .dataframe thead th {\n",
       "        text-align: right;\n",
       "    }\n",
       "</style>\n",
       "<table border=\"1\" class=\"dataframe\">\n",
       "  <thead>\n",
       "    <tr style=\"text-align: right;\">\n",
       "      <th></th>\n",
       "      <th>序号</th>\n",
       "      <th>车号</th>\n",
       "      <th>日期</th>\n",
       "      <th>时间</th>\n",
       "      <th>速度</th>\n",
       "      <th>线路名</th>\n",
       "      <th>行别</th>\n",
       "      <th>站点</th>\n",
       "      <th>杆号</th>\n",
       "      <th>公里标</th>\n",
       "      <th>...</th>\n",
       "      <th>弓端</th>\n",
       "      <th>车次</th>\n",
       "      <th>路局</th>\n",
       "      <th>供电段</th>\n",
       "      <th>环境温度</th>\n",
       "      <th>红外温度</th>\n",
       "      <th>拉出</th>\n",
       "      <th>导高</th>\n",
       "      <th>硬点1</th>\n",
       "      <th>硬点2</th>\n",
       "    </tr>\n",
       "  </thead>\n",
       "  <tbody>\n",
       "    <tr>\n",
       "      <th>0</th>\n",
       "      <td>0</td>\n",
       "      <td>SS40359</td>\n",
       "      <td>2022-08-29</td>\n",
       "      <td>16:30:00.922</td>\n",
       "      <td>49</td>\n",
       "      <td>石太线</td>\n",
       "      <td>上行</td>\n",
       "      <td>北合流</td>\n",
       "      <td>NaN</td>\n",
       "      <td>K189+086</td>\n",
       "      <td>...</td>\n",
       "      <td>B</td>\n",
       "      <td>10386</td>\n",
       "      <td>NaN</td>\n",
       "      <td>NaN</td>\n",
       "      <td>22</td>\n",
       "      <td>26</td>\n",
       "      <td>236</td>\n",
       "      <td>5969</td>\n",
       "      <td>0</td>\n",
       "      <td>0</td>\n",
       "    </tr>\n",
       "    <tr>\n",
       "      <th>1</th>\n",
       "      <td>1</td>\n",
       "      <td>SS40359</td>\n",
       "      <td>2022-08-29</td>\n",
       "      <td>16:30:00.953</td>\n",
       "      <td>49</td>\n",
       "      <td>石太线</td>\n",
       "      <td>上行</td>\n",
       "      <td>北合流</td>\n",
       "      <td>NaN</td>\n",
       "      <td>K189+086</td>\n",
       "      <td>...</td>\n",
       "      <td>B</td>\n",
       "      <td>10386</td>\n",
       "      <td>NaN</td>\n",
       "      <td>NaN</td>\n",
       "      <td>22</td>\n",
       "      <td>26</td>\n",
       "      <td>267</td>\n",
       "      <td>5969</td>\n",
       "      <td>0</td>\n",
       "      <td>0</td>\n",
       "    </tr>\n",
       "    <tr>\n",
       "      <th>2</th>\n",
       "      <td>2</td>\n",
       "      <td>SS40359</td>\n",
       "      <td>2022-08-29</td>\n",
       "      <td>16:30:01.000</td>\n",
       "      <td>49</td>\n",
       "      <td>石太线</td>\n",
       "      <td>上行</td>\n",
       "      <td>北合流</td>\n",
       "      <td>NaN</td>\n",
       "      <td>K189+086</td>\n",
       "      <td>...</td>\n",
       "      <td>B</td>\n",
       "      <td>10386</td>\n",
       "      <td>NaN</td>\n",
       "      <td>NaN</td>\n",
       "      <td>22</td>\n",
       "      <td>26</td>\n",
       "      <td>308</td>\n",
       "      <td>5969</td>\n",
       "      <td>0</td>\n",
       "      <td>0</td>\n",
       "    </tr>\n",
       "    <tr>\n",
       "      <th>3</th>\n",
       "      <td>3</td>\n",
       "      <td>SS40359</td>\n",
       "      <td>2022-08-29</td>\n",
       "      <td>16:30:01.031</td>\n",
       "      <td>49</td>\n",
       "      <td>石太线</td>\n",
       "      <td>上行</td>\n",
       "      <td>北合流</td>\n",
       "      <td>NaN</td>\n",
       "      <td>K189+086</td>\n",
       "      <td>...</td>\n",
       "      <td>B</td>\n",
       "      <td>10386</td>\n",
       "      <td>NaN</td>\n",
       "      <td>NaN</td>\n",
       "      <td>22</td>\n",
       "      <td>26</td>\n",
       "      <td>292</td>\n",
       "      <td>5969</td>\n",
       "      <td>0</td>\n",
       "      <td>0</td>\n",
       "    </tr>\n",
       "    <tr>\n",
       "      <th>4</th>\n",
       "      <td>4</td>\n",
       "      <td>SS40359</td>\n",
       "      <td>2022-08-29</td>\n",
       "      <td>16:30:01.078</td>\n",
       "      <td>49</td>\n",
       "      <td>石太线</td>\n",
       "      <td>上行</td>\n",
       "      <td>北合流</td>\n",
       "      <td>NaN</td>\n",
       "      <td>K189+085</td>\n",
       "      <td>...</td>\n",
       "      <td>B</td>\n",
       "      <td>10386</td>\n",
       "      <td>NaN</td>\n",
       "      <td>NaN</td>\n",
       "      <td>22</td>\n",
       "      <td>26</td>\n",
       "      <td>308</td>\n",
       "      <td>5976</td>\n",
       "      <td>0</td>\n",
       "      <td>0</td>\n",
       "    </tr>\n",
       "    <tr>\n",
       "      <th>...</th>\n",
       "      <td>...</td>\n",
       "      <td>...</td>\n",
       "      <td>...</td>\n",
       "      <td>...</td>\n",
       "      <td>...</td>\n",
       "      <td>...</td>\n",
       "      <td>...</td>\n",
       "      <td>...</td>\n",
       "      <td>...</td>\n",
       "      <td>...</td>\n",
       "      <td>...</td>\n",
       "      <td>...</td>\n",
       "      <td>...</td>\n",
       "      <td>...</td>\n",
       "      <td>...</td>\n",
       "      <td>...</td>\n",
       "      <td>...</td>\n",
       "      <td>...</td>\n",
       "      <td>...</td>\n",
       "      <td>...</td>\n",
       "      <td>...</td>\n",
       "    </tr>\n",
       "    <tr>\n",
       "      <th>20859</th>\n",
       "      <td>20859</td>\n",
       "      <td>SS40359</td>\n",
       "      <td>2022-08-29</td>\n",
       "      <td>16:45:00.092</td>\n",
       "      <td>56</td>\n",
       "      <td>石太线</td>\n",
       "      <td>上行</td>\n",
       "      <td>段廷</td>\n",
       "      <td>NaN</td>\n",
       "      <td>K176+001</td>\n",
       "      <td>...</td>\n",
       "      <td>B</td>\n",
       "      <td>10386</td>\n",
       "      <td>NaN</td>\n",
       "      <td>NaN</td>\n",
       "      <td>22</td>\n",
       "      <td>40</td>\n",
       "      <td>-1000</td>\n",
       "      <td>6022</td>\n",
       "      <td>0</td>\n",
       "      <td>0</td>\n",
       "    </tr>\n",
       "    <tr>\n",
       "      <th>20860</th>\n",
       "      <td>20860</td>\n",
       "      <td>SS40359</td>\n",
       "      <td>2022-08-29</td>\n",
       "      <td>16:45:00.123</td>\n",
       "      <td>56</td>\n",
       "      <td>石太线</td>\n",
       "      <td>上行</td>\n",
       "      <td>段廷</td>\n",
       "      <td>NaN</td>\n",
       "      <td>K176+001</td>\n",
       "      <td>...</td>\n",
       "      <td>B</td>\n",
       "      <td>10386</td>\n",
       "      <td>NaN</td>\n",
       "      <td>NaN</td>\n",
       "      <td>22</td>\n",
       "      <td>41</td>\n",
       "      <td>-1000</td>\n",
       "      <td>6022</td>\n",
       "      <td>0</td>\n",
       "      <td>0</td>\n",
       "    </tr>\n",
       "    <tr>\n",
       "      <th>20861</th>\n",
       "      <td>20861</td>\n",
       "      <td>SS40359</td>\n",
       "      <td>2022-08-29</td>\n",
       "      <td>16:45:00.185</td>\n",
       "      <td>56</td>\n",
       "      <td>石太线</td>\n",
       "      <td>上行</td>\n",
       "      <td>段廷</td>\n",
       "      <td>NaN</td>\n",
       "      <td>K176+001</td>\n",
       "      <td>...</td>\n",
       "      <td>B</td>\n",
       "      <td>10386</td>\n",
       "      <td>NaN</td>\n",
       "      <td>NaN</td>\n",
       "      <td>22</td>\n",
       "      <td>41</td>\n",
       "      <td>-1000</td>\n",
       "      <td>6022</td>\n",
       "      <td>0</td>\n",
       "      <td>0</td>\n",
       "    </tr>\n",
       "    <tr>\n",
       "      <th>20862</th>\n",
       "      <td>20862</td>\n",
       "      <td>SS40359</td>\n",
       "      <td>2022-08-29</td>\n",
       "      <td>16:45:00.201</td>\n",
       "      <td>56</td>\n",
       "      <td>石太线</td>\n",
       "      <td>上行</td>\n",
       "      <td>段廷</td>\n",
       "      <td>NaN</td>\n",
       "      <td>K175+995</td>\n",
       "      <td>...</td>\n",
       "      <td>B</td>\n",
       "      <td>10386</td>\n",
       "      <td>NaN</td>\n",
       "      <td>NaN</td>\n",
       "      <td>22</td>\n",
       "      <td>41</td>\n",
       "      <td>-1000</td>\n",
       "      <td>6022</td>\n",
       "      <td>0</td>\n",
       "      <td>0</td>\n",
       "    </tr>\n",
       "    <tr>\n",
       "      <th>20863</th>\n",
       "      <td>20863</td>\n",
       "      <td>SS40359</td>\n",
       "      <td>2022-08-29</td>\n",
       "      <td>16:45:00.248</td>\n",
       "      <td>56</td>\n",
       "      <td>石太线</td>\n",
       "      <td>上行</td>\n",
       "      <td>段廷</td>\n",
       "      <td>NaN</td>\n",
       "      <td>K175+995</td>\n",
       "      <td>...</td>\n",
       "      <td>B</td>\n",
       "      <td>10386</td>\n",
       "      <td>NaN</td>\n",
       "      <td>NaN</td>\n",
       "      <td>22</td>\n",
       "      <td>41</td>\n",
       "      <td>-1000</td>\n",
       "      <td>6022</td>\n",
       "      <td>0</td>\n",
       "      <td>0</td>\n",
       "    </tr>\n",
       "  </tbody>\n",
       "</table>\n",
       "<p>20864 rows × 26 columns</p>\n",
       "</div>"
      ],
      "text/plain": [
       "          序号       车号          日期            时间  速度  线路名  行别   站点  杆号  \\\n",
       "0          0  SS40359  2022-08-29  16:30:00.922  49  石太线  上行  北合流 NaN   \n",
       "1          1  SS40359  2022-08-29  16:30:00.953  49  石太线  上行  北合流 NaN   \n",
       "2          2  SS40359  2022-08-29  16:30:01.000  49  石太线  上行  北合流 NaN   \n",
       "3          3  SS40359  2022-08-29  16:30:01.031  49  石太线  上行  北合流 NaN   \n",
       "4          4  SS40359  2022-08-29  16:30:01.078  49  石太线  上行  北合流 NaN   \n",
       "...      ...      ...         ...           ...  ..  ...  ..  ...  ..   \n",
       "20859  20859  SS40359  2022-08-29  16:45:00.092  56  石太线  上行   段廷 NaN   \n",
       "20860  20860  SS40359  2022-08-29  16:45:00.123  56  石太线  上行   段廷 NaN   \n",
       "20861  20861  SS40359  2022-08-29  16:45:00.185  56  石太线  上行   段廷 NaN   \n",
       "20862  20862  SS40359  2022-08-29  16:45:00.201  56  石太线  上行   段廷 NaN   \n",
       "20863  20863  SS40359  2022-08-29  16:45:00.248  56  石太线  上行   段廷 NaN   \n",
       "\n",
       "            公里标  ...  弓端     车次  路局  供电段  环境温度 红外温度    拉出    导高  硬点1  硬点2  \n",
       "0      K189+086  ...   B  10386 NaN  NaN    22   26   236  5969    0    0  \n",
       "1      K189+086  ...   B  10386 NaN  NaN    22   26   267  5969    0    0  \n",
       "2      K189+086  ...   B  10386 NaN  NaN    22   26   308  5969    0    0  \n",
       "3      K189+086  ...   B  10386 NaN  NaN    22   26   292  5969    0    0  \n",
       "4      K189+085  ...   B  10386 NaN  NaN    22   26   308  5976    0    0  \n",
       "...         ...  ...  ..    ...  ..  ...   ...  ...   ...   ...  ...  ...  \n",
       "20859  K176+001  ...   B  10386 NaN  NaN    22   40 -1000  6022    0    0  \n",
       "20860  K176+001  ...   B  10386 NaN  NaN    22   41 -1000  6022    0    0  \n",
       "20861  K176+001  ...   B  10386 NaN  NaN    22   41 -1000  6022    0    0  \n",
       "20862  K175+995  ...   B  10386 NaN  NaN    22   41 -1000  6022    0    0  \n",
       "20863  K175+995  ...   B  10386 NaN  NaN    22   41 -1000  6022    0    0  \n",
       "\n",
       "[20864 rows x 26 columns]"
      ]
     },
     "execution_count": 4,
     "metadata": {},
     "output_type": "execute_result"
    }
   ],
   "source": [
    "incites"
   ]
  },
  {
   "cell_type": "code",
   "execution_count": 11,
   "id": "2e6d4f65",
   "metadata": {},
   "outputs": [],
   "source": [
    "#选出不等于-1000的值\n",
    "incites = incites[incites['拉出']>-1000]"
   ]
  },
  {
   "cell_type": "code",
   "execution_count": 12,
   "id": "f6ea14e1",
   "metadata": {},
   "outputs": [
    {
     "data": {
      "text/html": [
       "<div>\n",
       "<style scoped>\n",
       "    .dataframe tbody tr th:only-of-type {\n",
       "        vertical-align: middle;\n",
       "    }\n",
       "\n",
       "    .dataframe tbody tr th {\n",
       "        vertical-align: top;\n",
       "    }\n",
       "\n",
       "    .dataframe thead th {\n",
       "        text-align: right;\n",
       "    }\n",
       "</style>\n",
       "<table border=\"1\" class=\"dataframe\">\n",
       "  <thead>\n",
       "    <tr style=\"text-align: right;\">\n",
       "      <th></th>\n",
       "      <th>序号</th>\n",
       "      <th>车号</th>\n",
       "      <th>日期</th>\n",
       "      <th>时间</th>\n",
       "      <th>速度</th>\n",
       "      <th>线路名</th>\n",
       "      <th>行别</th>\n",
       "      <th>站点</th>\n",
       "      <th>杆号</th>\n",
       "      <th>公里标</th>\n",
       "      <th>...</th>\n",
       "      <th>弓端</th>\n",
       "      <th>车次</th>\n",
       "      <th>路局</th>\n",
       "      <th>供电段</th>\n",
       "      <th>环境温度</th>\n",
       "      <th>红外温度</th>\n",
       "      <th>拉出</th>\n",
       "      <th>导高</th>\n",
       "      <th>硬点1</th>\n",
       "      <th>硬点2</th>\n",
       "    </tr>\n",
       "  </thead>\n",
       "  <tbody>\n",
       "    <tr>\n",
       "      <th>0</th>\n",
       "      <td>0</td>\n",
       "      <td>SS40359</td>\n",
       "      <td>2022-08-29</td>\n",
       "      <td>16:30:00.922</td>\n",
       "      <td>49</td>\n",
       "      <td>石太线</td>\n",
       "      <td>上行</td>\n",
       "      <td>北合流</td>\n",
       "      <td>NaN</td>\n",
       "      <td>K189+086</td>\n",
       "      <td>...</td>\n",
       "      <td>B</td>\n",
       "      <td>10386</td>\n",
       "      <td>NaN</td>\n",
       "      <td>NaN</td>\n",
       "      <td>22</td>\n",
       "      <td>26</td>\n",
       "      <td>236</td>\n",
       "      <td>5969</td>\n",
       "      <td>0</td>\n",
       "      <td>0</td>\n",
       "    </tr>\n",
       "    <tr>\n",
       "      <th>1</th>\n",
       "      <td>1</td>\n",
       "      <td>SS40359</td>\n",
       "      <td>2022-08-29</td>\n",
       "      <td>16:30:00.953</td>\n",
       "      <td>49</td>\n",
       "      <td>石太线</td>\n",
       "      <td>上行</td>\n",
       "      <td>北合流</td>\n",
       "      <td>NaN</td>\n",
       "      <td>K189+086</td>\n",
       "      <td>...</td>\n",
       "      <td>B</td>\n",
       "      <td>10386</td>\n",
       "      <td>NaN</td>\n",
       "      <td>NaN</td>\n",
       "      <td>22</td>\n",
       "      <td>26</td>\n",
       "      <td>267</td>\n",
       "      <td>5969</td>\n",
       "      <td>0</td>\n",
       "      <td>0</td>\n",
       "    </tr>\n",
       "    <tr>\n",
       "      <th>2</th>\n",
       "      <td>2</td>\n",
       "      <td>SS40359</td>\n",
       "      <td>2022-08-29</td>\n",
       "      <td>16:30:01.000</td>\n",
       "      <td>49</td>\n",
       "      <td>石太线</td>\n",
       "      <td>上行</td>\n",
       "      <td>北合流</td>\n",
       "      <td>NaN</td>\n",
       "      <td>K189+086</td>\n",
       "      <td>...</td>\n",
       "      <td>B</td>\n",
       "      <td>10386</td>\n",
       "      <td>NaN</td>\n",
       "      <td>NaN</td>\n",
       "      <td>22</td>\n",
       "      <td>26</td>\n",
       "      <td>308</td>\n",
       "      <td>5969</td>\n",
       "      <td>0</td>\n",
       "      <td>0</td>\n",
       "    </tr>\n",
       "    <tr>\n",
       "      <th>3</th>\n",
       "      <td>3</td>\n",
       "      <td>SS40359</td>\n",
       "      <td>2022-08-29</td>\n",
       "      <td>16:30:01.031</td>\n",
       "      <td>49</td>\n",
       "      <td>石太线</td>\n",
       "      <td>上行</td>\n",
       "      <td>北合流</td>\n",
       "      <td>NaN</td>\n",
       "      <td>K189+086</td>\n",
       "      <td>...</td>\n",
       "      <td>B</td>\n",
       "      <td>10386</td>\n",
       "      <td>NaN</td>\n",
       "      <td>NaN</td>\n",
       "      <td>22</td>\n",
       "      <td>26</td>\n",
       "      <td>292</td>\n",
       "      <td>5969</td>\n",
       "      <td>0</td>\n",
       "      <td>0</td>\n",
       "    </tr>\n",
       "    <tr>\n",
       "      <th>4</th>\n",
       "      <td>4</td>\n",
       "      <td>SS40359</td>\n",
       "      <td>2022-08-29</td>\n",
       "      <td>16:30:01.078</td>\n",
       "      <td>49</td>\n",
       "      <td>石太线</td>\n",
       "      <td>上行</td>\n",
       "      <td>北合流</td>\n",
       "      <td>NaN</td>\n",
       "      <td>K189+085</td>\n",
       "      <td>...</td>\n",
       "      <td>B</td>\n",
       "      <td>10386</td>\n",
       "      <td>NaN</td>\n",
       "      <td>NaN</td>\n",
       "      <td>22</td>\n",
       "      <td>26</td>\n",
       "      <td>308</td>\n",
       "      <td>5976</td>\n",
       "      <td>0</td>\n",
       "      <td>0</td>\n",
       "    </tr>\n",
       "    <tr>\n",
       "      <th>...</th>\n",
       "      <td>...</td>\n",
       "      <td>...</td>\n",
       "      <td>...</td>\n",
       "      <td>...</td>\n",
       "      <td>...</td>\n",
       "      <td>...</td>\n",
       "      <td>...</td>\n",
       "      <td>...</td>\n",
       "      <td>...</td>\n",
       "      <td>...</td>\n",
       "      <td>...</td>\n",
       "      <td>...</td>\n",
       "      <td>...</td>\n",
       "      <td>...</td>\n",
       "      <td>...</td>\n",
       "      <td>...</td>\n",
       "      <td>...</td>\n",
       "      <td>...</td>\n",
       "      <td>...</td>\n",
       "      <td>...</td>\n",
       "      <td>...</td>\n",
       "    </tr>\n",
       "    <tr>\n",
       "      <th>7766</th>\n",
       "      <td>7766</td>\n",
       "      <td>SS40359</td>\n",
       "      <td>2022-08-29</td>\n",
       "      <td>16:35:28.990</td>\n",
       "      <td>53</td>\n",
       "      <td>石太线</td>\n",
       "      <td>上行</td>\n",
       "      <td>东赵</td>\n",
       "      <td>NaN</td>\n",
       "      <td>K184+414</td>\n",
       "      <td>...</td>\n",
       "      <td>B</td>\n",
       "      <td>10386</td>\n",
       "      <td>NaN</td>\n",
       "      <td>NaN</td>\n",
       "      <td>22</td>\n",
       "      <td>25</td>\n",
       "      <td>185</td>\n",
       "      <td>5992</td>\n",
       "      <td>0</td>\n",
       "      <td>0</td>\n",
       "    </tr>\n",
       "    <tr>\n",
       "      <th>7767</th>\n",
       "      <td>7767</td>\n",
       "      <td>SS40359</td>\n",
       "      <td>2022-08-29</td>\n",
       "      <td>16:35:29.021</td>\n",
       "      <td>53</td>\n",
       "      <td>石太线</td>\n",
       "      <td>上行</td>\n",
       "      <td>东赵</td>\n",
       "      <td>NaN</td>\n",
       "      <td>K184+414</td>\n",
       "      <td>...</td>\n",
       "      <td>B</td>\n",
       "      <td>10386</td>\n",
       "      <td>NaN</td>\n",
       "      <td>NaN</td>\n",
       "      <td>22</td>\n",
       "      <td>26</td>\n",
       "      <td>226</td>\n",
       "      <td>5992</td>\n",
       "      <td>0</td>\n",
       "      <td>0</td>\n",
       "    </tr>\n",
       "    <tr>\n",
       "      <th>7768</th>\n",
       "      <td>7768</td>\n",
       "      <td>SS40359</td>\n",
       "      <td>2022-08-29</td>\n",
       "      <td>16:35:29.053</td>\n",
       "      <td>53</td>\n",
       "      <td>石太线</td>\n",
       "      <td>上行</td>\n",
       "      <td>东赵</td>\n",
       "      <td>NaN</td>\n",
       "      <td>K184+414</td>\n",
       "      <td>...</td>\n",
       "      <td>B</td>\n",
       "      <td>10386</td>\n",
       "      <td>NaN</td>\n",
       "      <td>NaN</td>\n",
       "      <td>22</td>\n",
       "      <td>25</td>\n",
       "      <td>218</td>\n",
       "      <td>5999</td>\n",
       "      <td>0</td>\n",
       "      <td>0</td>\n",
       "    </tr>\n",
       "    <tr>\n",
       "      <th>7769</th>\n",
       "      <td>7769</td>\n",
       "      <td>SS40359</td>\n",
       "      <td>2022-08-29</td>\n",
       "      <td>16:35:29.099</td>\n",
       "      <td>53</td>\n",
       "      <td>石太线</td>\n",
       "      <td>上行</td>\n",
       "      <td>东赵</td>\n",
       "      <td>NaN</td>\n",
       "      <td>K184+414</td>\n",
       "      <td>...</td>\n",
       "      <td>B</td>\n",
       "      <td>10386</td>\n",
       "      <td>NaN</td>\n",
       "      <td>NaN</td>\n",
       "      <td>22</td>\n",
       "      <td>25</td>\n",
       "      <td>215</td>\n",
       "      <td>5999</td>\n",
       "      <td>0</td>\n",
       "      <td>0</td>\n",
       "    </tr>\n",
       "    <tr>\n",
       "      <th>7770</th>\n",
       "      <td>7770</td>\n",
       "      <td>SS40359</td>\n",
       "      <td>2022-08-29</td>\n",
       "      <td>16:35:29.131</td>\n",
       "      <td>53</td>\n",
       "      <td>石太线</td>\n",
       "      <td>上行</td>\n",
       "      <td>东赵</td>\n",
       "      <td>NaN</td>\n",
       "      <td>K184+414</td>\n",
       "      <td>...</td>\n",
       "      <td>B</td>\n",
       "      <td>10386</td>\n",
       "      <td>NaN</td>\n",
       "      <td>NaN</td>\n",
       "      <td>22</td>\n",
       "      <td>26</td>\n",
       "      <td>207</td>\n",
       "      <td>5999</td>\n",
       "      <td>0</td>\n",
       "      <td>0</td>\n",
       "    </tr>\n",
       "  </tbody>\n",
       "</table>\n",
       "<p>7771 rows × 26 columns</p>\n",
       "</div>"
      ],
      "text/plain": [
       "        序号       车号          日期            时间  速度  线路名  行别   站点  杆号       公里标  \\\n",
       "0        0  SS40359  2022-08-29  16:30:00.922  49  石太线  上行  北合流 NaN  K189+086   \n",
       "1        1  SS40359  2022-08-29  16:30:00.953  49  石太线  上行  北合流 NaN  K189+086   \n",
       "2        2  SS40359  2022-08-29  16:30:01.000  49  石太线  上行  北合流 NaN  K189+086   \n",
       "3        3  SS40359  2022-08-29  16:30:01.031  49  石太线  上行  北合流 NaN  K189+086   \n",
       "4        4  SS40359  2022-08-29  16:30:01.078  49  石太线  上行  北合流 NaN  K189+085   \n",
       "...    ...      ...         ...           ...  ..  ...  ..  ...  ..       ...   \n",
       "7766  7766  SS40359  2022-08-29  16:35:28.990  53  石太线  上行   东赵 NaN  K184+414   \n",
       "7767  7767  SS40359  2022-08-29  16:35:29.021  53  石太线  上行   东赵 NaN  K184+414   \n",
       "7768  7768  SS40359  2022-08-29  16:35:29.053  53  石太线  上行   东赵 NaN  K184+414   \n",
       "7769  7769  SS40359  2022-08-29  16:35:29.099  53  石太线  上行   东赵 NaN  K184+414   \n",
       "7770  7770  SS40359  2022-08-29  16:35:29.131  53  石太线  上行   东赵 NaN  K184+414   \n",
       "\n",
       "      ...  弓端     车次  路局  供电段  环境温度 红外温度   拉出    导高  硬点1  硬点2  \n",
       "0     ...   B  10386 NaN  NaN    22   26  236  5969    0    0  \n",
       "1     ...   B  10386 NaN  NaN    22   26  267  5969    0    0  \n",
       "2     ...   B  10386 NaN  NaN    22   26  308  5969    0    0  \n",
       "3     ...   B  10386 NaN  NaN    22   26  292  5969    0    0  \n",
       "4     ...   B  10386 NaN  NaN    22   26  308  5976    0    0  \n",
       "...   ...  ..    ...  ..  ...   ...  ...  ...   ...  ...  ...  \n",
       "7766  ...   B  10386 NaN  NaN    22   25  185  5992    0    0  \n",
       "7767  ...   B  10386 NaN  NaN    22   26  226  5992    0    0  \n",
       "7768  ...   B  10386 NaN  NaN    22   25  218  5999    0    0  \n",
       "7769  ...   B  10386 NaN  NaN    22   25  215  5999    0    0  \n",
       "7770  ...   B  10386 NaN  NaN    22   26  207  5999    0    0  \n",
       "\n",
       "[7771 rows x 26 columns]"
      ]
     },
     "execution_count": 12,
     "metadata": {},
     "output_type": "execute_result"
    }
   ],
   "source": [
    "incites"
   ]
  },
  {
   "cell_type": "code",
   "execution_count": 13,
   "id": "286757ec",
   "metadata": {},
   "outputs": [
    {
     "data": {
      "text/plain": [
       "[<matplotlib.lines.Line2D at 0x1e3dc8ad550>]"
      ]
     },
     "execution_count": 13,
     "metadata": {},
     "output_type": "execute_result"
    },
    {
     "data": {
      "image/png": "[encoded data removed]",
      "text/plain": [
       "<Figure size 432x288 with 1 Axes>"
      ]
     },
     "metadata": {
      "needs_background": "light"
     },
     "output_type": "display_data"
    }
   ],
   "source": [
    "plt.plot(incites['拉出'])"
   ]
  },
  {
   "cell_type": "code",
   "execution_count": 15,
   "id": "a7c303ad",
   "metadata": {},
   "outputs": [],
   "source": [
    "import seaborn as sns"
   ]
  },
  {
   "cell_type": "code",
   "execution_count": 16,
   "id": "ec6ac3ef",
   "metadata": {},
   "outputs": [
    {
     "data": {
      "text/plain": [
       "<AxesSubplot: >"
      ]
     },
     "execution_count": 16,
     "metadata": {},
     "output_type": "execute_result"
    },
    {
     "data": {
      "image/png": "[encoded data removed]",
      "text/plain": [
       "<Figure size 432x288 with 1 Axes>"
      ]
     },
     "metadata": {
      "needs_background": "light"
     },
     "output_type": "display_data"
    }
   ],
   "source": [
    "sns.boxplot(data=incites['拉出'],orient='h',showmeans=True,flierprops = dict(marker='o', markersize=5),width=0.2)"
   ]
  },
  {
   "cell_type": "code",
   "execution_count": 17,
   "id": "8044d162",
   "metadata": {},
   "outputs": [],
   "source": [
    "s = incites['拉出']"
   ]
  },
  {
   "cell_type": "code",
   "execution_count": 18,
   "id": "e977dec7",
   "metadata": {},
   "outputs": [
    {
     "name": "stdout",
     "output_type": "stream",
     "text": [
      "-17.0\n"
     ]
    }
   ],
   "source": [
    "print(s.median())"
   ]
  },
  {
   "cell_type": "code",
   "execution_count": 19,
   "id": "0ea51475",
   "metadata": {},
   "outputs": [
    {
     "name": "stdout",
     "output_type": "stream",
     "text": [
      "-124.5\n"
     ]
    }
   ],
   "source": [
    "print(s.quantile(0.25))"
   ]
  },
  {
   "cell_type": "code",
   "execution_count": 20,
   "id": "1bbd0cd5",
   "metadata": {},
   "outputs": [
    {
     "name": "stdout",
     "output_type": "stream",
     "text": [
      "95.0\n"
     ]
    }
   ],
   "source": [
    "print(s.quantile(0.75))"
   ]
  },
  {
   "cell_type": "code",
   "execution_count": 21,
   "id": "dc4f3e57",
   "metadata": {},
   "outputs": [
    {
     "data": {
      "text/plain": [
       "0        NaN\n",
       "1       31.0\n",
       "2       41.0\n",
       "3      -16.0\n",
       "4       16.0\n",
       "        ... \n",
       "7766   -40.0\n",
       "7767    41.0\n",
       "7768    -8.0\n",
       "7769    -3.0\n",
       "7770    -8.0\n",
       "Name: 拉出, Length: 7771, dtype: float64"
      ]
     },
     "execution_count": 21,
     "metadata": {},
     "output_type": "execute_result"
    }
   ],
   "source": [
    "incites['拉出'].diff()"
   ]
  },
  {
   "cell_type": "code",
   "execution_count": 22,
   "id": "d72c1455",
   "metadata": {},
   "outputs": [
    {
     "data": {
      "text/plain": [
       "[<matplotlib.lines.Line2D at 0x1e3e05c77f0>]"
      ]
     },
     "execution_count": 22,
     "metadata": {},
     "output_type": "execute_result"
    },
    {
     "data": {
      "image/png": "[encoded data removed]",
      "text/plain": [
       "<Figure size 432x288 with 1 Axes>"
      ]
     },
     "metadata": {
      "needs_background": "light"
     },
     "output_type": "display_data"
    }
   ],
   "source": [
    "plt.plot(incites['拉出'].diff())"
   ]
  },
  {
   "cell_type": "code",
   "execution_count": 23,
   "id": "6a539683",
   "metadata": {},
   "outputs": [],
   "source": [
    "sdiff=incites['拉出'].diff()"
   ]
  },
  {
   "cell_type": "code",
   "execution_count": 24,
   "id": "f8b3ee49",
   "metadata": {},
   "outputs": [
    {
     "data": {
      "text/plain": [
       "<AxesSubplot: >"
      ]
     },
     "execution_count": 24,
     "metadata": {},
     "output_type": "execute_result"
    },
    {
     "data": {
      "image/png": "[encoded data removed]",
      "text/plain": [
       "<Figure size 432x288 with 1 Axes>"
      ]
     },
     "metadata": {
      "needs_background": "light"
     },
     "output_type": "display_data"
    }
   ],
   "source": [
    "sns.boxplot(data=incites['拉出'].diff(),orient='h',showmeans=True,flierprops = dict(marker='o', markersize=5),width=0.2)"
   ]
  },
  {
   "cell_type": "code",
   "execution_count": 25,
   "id": "808d4dce",
   "metadata": {},
   "outputs": [
    {
     "data": {
      "text/plain": [
       "-5.0"
      ]
     },
     "execution_count": 25,
     "metadata": {},
     "output_type": "execute_result"
    }
   ],
   "source": [
    "sdiff.quantile(0.25)"
   ]
  },
  {
   "cell_type": "code",
   "execution_count": 26,
   "id": "961f5e9b",
   "metadata": {},
   "outputs": [
    {
     "data": {
      "text/plain": [
       "5.0"
      ]
     },
     "execution_count": 26,
     "metadata": {},
     "output_type": "execute_result"
    }
   ],
   "source": [
    "sdiff.quantile(0.75)"
   ]
  }
 ],
 "metadata": {
  "kernelspec": {
   "display_name": "Python 3 (ipykernel)",
   "language": "python",
   "name": "python3"
  },
  "language_info": {
   "codemirror_mode": {
    "name": "ipython",
    "version": 3
   },
   "file_extension": ".py",
   "mimetype": "text/x-python",
   "name": "python",
   "nbconvert_exporter": "python",
   "pygments_lexer": "ipython3",
   "version": "3.9.13"
  }
 },
 "nbformat": 4,
 "nbformat_minor": 5
}
