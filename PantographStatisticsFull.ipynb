{
 "cells": [
  {
   "cell_type": "code",
   "execution_count": 1,
   "id": "89357435",
   "metadata": {},
   "outputs": [],
   "source": [
    "import numpy as np\n",
    "import matplotlib.pyplot as plt"
   ]
  },
  {
   "cell_type": "code",
   "execution_count": 2,
   "id": "fcc98959",
   "metadata": {},
   "outputs": [],
   "source": [
    "import os"
   ]
  },
  {
   "cell_type": "code",
   "execution_count": 3,
   "id": "66ae7e64",
   "metadata": {},
   "outputs": [],
   "source": [
    "filePath = '.\\\\HXD3D0308_20220101_0130-0430\\\\'"
   ]
  },
  {
   "cell_type": "code",
   "execution_count": 4,
   "id": "51135f53",
   "metadata": {},
   "outputs": [],
   "source": [
    "filelist = os.listdir(filePath)"
   ]
  },
  {
   "cell_type": "code",
   "execution_count": 5,
   "id": "8515bb38",
   "metadata": {},
   "outputs": [
    {
     "data": {
      "text/plain": [
       "['几何数据_20220929_145807_1.xlsx',\n",
       " '几何数据_20220929_145807_2.xlsx',\n",
       " '几何数据_20220929_150110_1.xlsx',\n",
       " '几何数据_20220929_150110_2.xlsx',\n",
       " '几何数据_20220929_150156_1.xlsx',\n",
       " '几何数据_20220929_150156_2.xlsx',\n",
       " '几何数据_20220929_150307_1.xlsx',\n",
       " '几何数据_20220929_150307_2.xlsx',\n",
       " '几何数据_20220929_150338_1.xlsx',\n",
       " '几何数据_20220929_150338_2.xlsx',\n",
       " '几何数据_20220929_150959_1.xlsx',\n",
       " '几何数据_20220929_151012_1.xlsx',\n",
       " '几何数据_20220929_151025_1.xlsx',\n",
       " '几何数据_20220929_151025_2.xlsx',\n",
       " '几何数据_20220929_151041_1.xlsx',\n",
       " '几何数据_20220929_151041_2.xlsx',\n",
       " '几何数据_20220929_151101_1.xlsx',\n",
       " '几何数据_20220929_151101_2.xlsx',\n",
       " '几何数据_20220929_151129_1.xlsx',\n",
       " '几何数据_20220929_151129_2.xlsx',\n",
       " '几何数据_20220929_151158_1.xlsx',\n",
       " '几何数据_20220929_151158_2.xlsx',\n",
       " '几何数据_20220929_151322_1.xlsx',\n",
       " '几何数据_20220929_151322_2.xlsx']"
      ]
     },
     "execution_count": 5,
     "metadata": {},
     "output_type": "execute_result"
    }
   ],
   "source": [
    "filelist"
   ]
  },
  {
   "cell_type": "code",
   "execution_count": 6,
   "id": "d6da4b2c",
   "metadata": {},
   "outputs": [],
   "source": [
    "import pandas as pd"
   ]
  },
  {
   "cell_type": "code",
   "execution_count": 7,
   "id": "e8439172",
   "metadata": {},
   "outputs": [],
   "source": [
    "dataTmp = pd.DataFrame()"
   ]
  },
  {
   "cell_type": "code",
   "execution_count": 8,
   "id": "2416bd44",
   "metadata": {},
   "outputs": [
    {
     "name": "stdout",
     "output_type": "stream",
     "text": [
      "start: 0\n"
     ]
    },
    {
     "name": "stderr",
     "output_type": "stream",
     "text": [
      "C:\\ProgramData\\Anaconda3\\envs\\matplot\\lib\\site-packages\\openpyxl\\styles\\stylesheet.py:226: UserWarning: Workbook contains no default style, apply openpyxl's default\n",
      "  warn(\"Workbook contains no default style, apply openpyxl's default\")\n",
      "C:\\Users\\lenovo\\AppData\\Local\\Temp\\ipykernel_45724\\2033545856.py:6: FutureWarning: The frame.append method is deprecated and will be removed from pandas in a future version. Use pandas.concat instead.\n",
      "  dataTmp = dataTmp.append(pdframe)\n",
      "C:\\ProgramData\\Anaconda3\\envs\\matplot\\lib\\site-packages\\openpyxl\\styles\\stylesheet.py:226: UserWarning: Workbook contains no default style, apply openpyxl's default\n",
      "  warn(\"Workbook contains no default style, apply openpyxl's default\")\n"
     ]
    },
    {
     "name": "stdout",
     "output_type": "stream",
     "text": [
      "start: 1\n"
     ]
    },
    {
     "name": "stderr",
     "output_type": "stream",
     "text": [
      "C:\\Users\\lenovo\\AppData\\Local\\Temp\\ipykernel_45724\\2033545856.py:6: FutureWarning: The frame.append method is deprecated and will be removed from pandas in a future version. Use pandas.concat instead.\n",
      "  dataTmp = dataTmp.append(pdframe)\n"
     ]
    },
    {
     "name": "stdout",
     "output_type": "stream",
     "text": [
      "start: 2\n"
     ]
    },
    {
     "name": "stderr",
     "output_type": "stream",
     "text": [
      "C:\\ProgramData\\Anaconda3\\envs\\matplot\\lib\\site-packages\\openpyxl\\styles\\stylesheet.py:226: UserWarning: Workbook contains no default style, apply openpyxl's default\n",
      "  warn(\"Workbook contains no default style, apply openpyxl's default\")\n",
      "C:\\Users\\lenovo\\AppData\\Local\\Temp\\ipykernel_45724\\2033545856.py:6: FutureWarning: The frame.append method is deprecated and will be removed from pandas in a future version. Use pandas.concat instead.\n",
      "  dataTmp = dataTmp.append(pdframe)\n",
      "C:\\ProgramData\\Anaconda3\\envs\\matplot\\lib\\site-packages\\openpyxl\\styles\\stylesheet.py:226: UserWarning: Workbook contains no default style, apply openpyxl's default\n",
      "  warn(\"Workbook contains no default style, apply openpyxl's default\")\n"
     ]
    },
    {
     "name": "stdout",
     "output_type": "stream",
     "text": [
      "start: 3\n"
     ]
    },
    {
     "name": "stderr",
     "output_type": "stream",
     "text": [
      "C:\\Users\\lenovo\\AppData\\Local\\Temp\\ipykernel_45724\\2033545856.py:6: FutureWarning: The frame.append method is deprecated and will be removed from pandas in a future version. Use pandas.concat instead.\n",
      "  dataTmp = dataTmp.append(pdframe)\n"
     ]
    },
    {
     "name": "stdout",
     "output_type": "stream",
     "text": [
      "start: 4\n"
     ]
    },
    {
     "name": "stderr",
     "output_type": "stream",
     "text": [
      "C:\\ProgramData\\Anaconda3\\envs\\matplot\\lib\\site-packages\\openpyxl\\styles\\stylesheet.py:226: UserWarning: Workbook contains no default style, apply openpyxl's default\n",
      "  warn(\"Workbook contains no default style, apply openpyxl's default\")\n",
      "C:\\Users\\lenovo\\AppData\\Local\\Temp\\ipykernel_45724\\2033545856.py:6: FutureWarning: The frame.append method is deprecated and will be removed from pandas in a future version. Use pandas.concat instead.\n",
      "  dataTmp = dataTmp.append(pdframe)\n",
      "C:\\ProgramData\\Anaconda3\\envs\\matplot\\lib\\site-packages\\openpyxl\\styles\\stylesheet.py:226: UserWarning: Workbook contains no default style, apply openpyxl's default\n",
      "  warn(\"Workbook contains no default style, apply openpyxl's default\")\n"
     ]
    },
    {
     "name": "stdout",
     "output_type": "stream",
     "text": [
      "start: 5\n"
     ]
    },
    {
     "name": "stderr",
     "output_type": "stream",
     "text": [
      "C:\\Users\\lenovo\\AppData\\Local\\Temp\\ipykernel_45724\\2033545856.py:6: FutureWarning: The frame.append method is deprecated and will be removed from pandas in a future version. Use pandas.concat instead.\n",
      "  dataTmp = dataTmp.append(pdframe)\n"
     ]
    },
    {
     "name": "stdout",
     "output_type": "stream",
     "text": [
      "start: 6\n"
     ]
    },
    {
     "name": "stderr",
     "output_type": "stream",
     "text": [
      "C:\\ProgramData\\Anaconda3\\envs\\matplot\\lib\\site-packages\\openpyxl\\styles\\stylesheet.py:226: UserWarning: Workbook contains no default style, apply openpyxl's default\n",
      "  warn(\"Workbook contains no default style, apply openpyxl's default\")\n",
      "C:\\Users\\lenovo\\AppData\\Local\\Temp\\ipykernel_45724\\2033545856.py:6: FutureWarning: The frame.append method is deprecated and will be removed from pandas in a future version. Use pandas.concat instead.\n",
      "  dataTmp = dataTmp.append(pdframe)\n",
      "C:\\ProgramData\\Anaconda3\\envs\\matplot\\lib\\site-packages\\openpyxl\\styles\\stylesheet.py:226: UserWarning: Workbook contains no default style, apply openpyxl's default\n",
      "  warn(\"Workbook contains no default style, apply openpyxl's default\")\n"
     ]
    },
    {
     "name": "stdout",
     "output_type": "stream",
     "text": [
      "start: 7\n"
     ]
    },
    {
     "name": "stderr",
     "output_type": "stream",
     "text": [
      "C:\\Users\\lenovo\\AppData\\Local\\Temp\\ipykernel_45724\\2033545856.py:6: FutureWarning: The frame.append method is deprecated and will be removed from pandas in a future version. Use pandas.concat instead.\n",
      "  dataTmp = dataTmp.append(pdframe)\n"
     ]
    },
    {
     "name": "stdout",
     "output_type": "stream",
     "text": [
      "start: 8\n"
     ]
    },
    {
     "name": "stderr",
     "output_type": "stream",
     "text": [
      "C:\\ProgramData\\Anaconda3\\envs\\matplot\\lib\\site-packages\\openpyxl\\styles\\stylesheet.py:226: UserWarning: Workbook contains no default style, apply openpyxl's default\n",
      "  warn(\"Workbook contains no default style, apply openpyxl's default\")\n",
      "C:\\Users\\lenovo\\AppData\\Local\\Temp\\ipykernel_45724\\2033545856.py:6: FutureWarning: The frame.append method is deprecated and will be removed from pandas in a future version. Use pandas.concat instead.\n",
      "  dataTmp = dataTmp.append(pdframe)\n",
      "C:\\ProgramData\\Anaconda3\\envs\\matplot\\lib\\site-packages\\openpyxl\\styles\\stylesheet.py:226: UserWarning: Workbook contains no default style, apply openpyxl's default\n",
      "  warn(\"Workbook contains no default style, apply openpyxl's default\")\n"
     ]
    },
    {
     "name": "stdout",
     "output_type": "stream",
     "text": [
      "start: 9\n"
     ]
    },
    {
     "name": "stderr",
     "output_type": "stream",
     "text": [
      "C:\\Users\\lenovo\\AppData\\Local\\Temp\\ipykernel_45724\\2033545856.py:6: FutureWarning: The frame.append method is deprecated and will be removed from pandas in a future version. Use pandas.concat instead.\n",
      "  dataTmp = dataTmp.append(pdframe)\n"
     ]
    },
    {
     "name": "stdout",
     "output_type": "stream",
     "text": [
      "start: 10\n"
     ]
    },
    {
     "name": "stderr",
     "output_type": "stream",
     "text": [
      "C:\\ProgramData\\Anaconda3\\envs\\matplot\\lib\\site-packages\\openpyxl\\styles\\stylesheet.py:226: UserWarning: Workbook contains no default style, apply openpyxl's default\n",
      "  warn(\"Workbook contains no default style, apply openpyxl's default\")\n",
      "C:\\Users\\lenovo\\AppData\\Local\\Temp\\ipykernel_45724\\2033545856.py:6: FutureWarning: The frame.append method is deprecated and will be removed from pandas in a future version. Use pandas.concat instead.\n",
      "  dataTmp = dataTmp.append(pdframe)\n",
      "C:\\ProgramData\\Anaconda3\\envs\\matplot\\lib\\site-packages\\openpyxl\\styles\\stylesheet.py:226: UserWarning: Workbook contains no default style, apply openpyxl's default\n",
      "  warn(\"Workbook contains no default style, apply openpyxl's default\")\n",
      "C:\\Users\\lenovo\\AppData\\Local\\Temp\\ipykernel_45724\\2033545856.py:6: FutureWarning: The frame.append method is deprecated and will be removed from pandas in a future version. Use pandas.concat instead.\n",
      "  dataTmp = dataTmp.append(pdframe)\n"
     ]
    },
    {
     "name": "stdout",
     "output_type": "stream",
     "text": [
      "start: 11\n",
      "start: 12\n"
     ]
    },
    {
     "name": "stderr",
     "output_type": "stream",
     "text": [
      "C:\\ProgramData\\Anaconda3\\envs\\matplot\\lib\\site-packages\\openpyxl\\styles\\stylesheet.py:226: UserWarning: Workbook contains no default style, apply openpyxl's default\n",
      "  warn(\"Workbook contains no default style, apply openpyxl's default\")\n",
      "C:\\Users\\lenovo\\AppData\\Local\\Temp\\ipykernel_45724\\2033545856.py:6: FutureWarning: The frame.append method is deprecated and will be removed from pandas in a future version. Use pandas.concat instead.\n",
      "  dataTmp = dataTmp.append(pdframe)\n",
      "C:\\ProgramData\\Anaconda3\\envs\\matplot\\lib\\site-packages\\openpyxl\\styles\\stylesheet.py:226: UserWarning: Workbook contains no default style, apply openpyxl's default\n",
      "  warn(\"Workbook contains no default style, apply openpyxl's default\")\n"
     ]
    },
    {
     "name": "stdout",
     "output_type": "stream",
     "text": [
      "start: 13\n"
     ]
    },
    {
     "name": "stderr",
     "output_type": "stream",
     "text": [
      "C:\\Users\\lenovo\\AppData\\Local\\Temp\\ipykernel_45724\\2033545856.py:6: FutureWarning: The frame.append method is deprecated and will be removed from pandas in a future version. Use pandas.concat instead.\n",
      "  dataTmp = dataTmp.append(pdframe)\n"
     ]
    },
    {
     "name": "stdout",
     "output_type": "stream",
     "text": [
      "start: 14\n"
     ]
    },
    {
     "name": "stderr",
     "output_type": "stream",
     "text": [
      "C:\\ProgramData\\Anaconda3\\envs\\matplot\\lib\\site-packages\\openpyxl\\styles\\stylesheet.py:226: UserWarning: Workbook contains no default style, apply openpyxl's default\n",
      "  warn(\"Workbook contains no default style, apply openpyxl's default\")\n",
      "C:\\Users\\lenovo\\AppData\\Local\\Temp\\ipykernel_45724\\2033545856.py:6: FutureWarning: The frame.append method is deprecated and will be removed from pandas in a future version. Use pandas.concat instead.\n",
      "  dataTmp = dataTmp.append(pdframe)\n",
      "C:\\ProgramData\\Anaconda3\\envs\\matplot\\lib\\site-packages\\openpyxl\\styles\\stylesheet.py:226: UserWarning: Workbook contains no default style, apply openpyxl's default\n",
      "  warn(\"Workbook contains no default style, apply openpyxl's default\")\n"
     ]
    },
    {
     "name": "stdout",
     "output_type": "stream",
     "text": [
      "start: 15\n"
     ]
    },
    {
     "name": "stderr",
     "output_type": "stream",
     "text": [
      "C:\\Users\\lenovo\\AppData\\Local\\Temp\\ipykernel_45724\\2033545856.py:6: FutureWarning: The frame.append method is deprecated and will be removed from pandas in a future version. Use pandas.concat instead.\n",
      "  dataTmp = dataTmp.append(pdframe)\n"
     ]
    },
    {
     "name": "stdout",
     "output_type": "stream",
     "text": [
      "start: 16\n"
     ]
    },
    {
     "name": "stderr",
     "output_type": "stream",
     "text": [
      "C:\\ProgramData\\Anaconda3\\envs\\matplot\\lib\\site-packages\\openpyxl\\styles\\stylesheet.py:226: UserWarning: Workbook contains no default style, apply openpyxl's default\n",
      "  warn(\"Workbook contains no default style, apply openpyxl's default\")\n",
      "C:\\Users\\lenovo\\AppData\\Local\\Temp\\ipykernel_45724\\2033545856.py:6: FutureWarning: The frame.append method is deprecated and will be removed from pandas in a future version. Use pandas.concat instead.\n",
      "  dataTmp = dataTmp.append(pdframe)\n",
      "C:\\ProgramData\\Anaconda3\\envs\\matplot\\lib\\site-packages\\openpyxl\\styles\\stylesheet.py:226: UserWarning: Workbook contains no default style, apply openpyxl's default\n",
      "  warn(\"Workbook contains no default style, apply openpyxl's default\")\n"
     ]
    },
    {
     "name": "stdout",
     "output_type": "stream",
     "text": [
      "start: 17\n"
     ]
    },
    {
     "name": "stderr",
     "output_type": "stream",
     "text": [
      "C:\\Users\\lenovo\\AppData\\Local\\Temp\\ipykernel_45724\\2033545856.py:6: FutureWarning: The frame.append method is deprecated and will be removed from pandas in a future version. Use pandas.concat instead.\n",
      "  dataTmp = dataTmp.append(pdframe)\n"
     ]
    },
    {
     "name": "stdout",
     "output_type": "stream",
     "text": [
      "start: 18\n"
     ]
    },
    {
     "name": "stderr",
     "output_type": "stream",
     "text": [
      "C:\\ProgramData\\Anaconda3\\envs\\matplot\\lib\\site-packages\\openpyxl\\styles\\stylesheet.py:226: UserWarning: Workbook contains no default style, apply openpyxl's default\n",
      "  warn(\"Workbook contains no default style, apply openpyxl's default\")\n",
      "C:\\Users\\lenovo\\AppData\\Local\\Temp\\ipykernel_45724\\2033545856.py:6: FutureWarning: The frame.append method is deprecated and will be removed from pandas in a future version. Use pandas.concat instead.\n",
      "  dataTmp = dataTmp.append(pdframe)\n",
      "C:\\ProgramData\\Anaconda3\\envs\\matplot\\lib\\site-packages\\openpyxl\\styles\\stylesheet.py:226: UserWarning: Workbook contains no default style, apply openpyxl's default\n",
      "  warn(\"Workbook contains no default style, apply openpyxl's default\")\n"
     ]
    },
    {
     "name": "stdout",
     "output_type": "stream",
     "text": [
      "start: 19\n"
     ]
    },
    {
     "name": "stderr",
     "output_type": "stream",
     "text": [
      "C:\\Users\\lenovo\\AppData\\Local\\Temp\\ipykernel_45724\\2033545856.py:6: FutureWarning: The frame.append method is deprecated and will be removed from pandas in a future version. Use pandas.concat instead.\n",
      "  dataTmp = dataTmp.append(pdframe)\n"
     ]
    },
    {
     "name": "stdout",
     "output_type": "stream",
     "text": [
      "start: 20\n"
     ]
    },
    {
     "name": "stderr",
     "output_type": "stream",
     "text": [
      "C:\\ProgramData\\Anaconda3\\envs\\matplot\\lib\\site-packages\\openpyxl\\styles\\stylesheet.py:226: UserWarning: Workbook contains no default style, apply openpyxl's default\n",
      "  warn(\"Workbook contains no default style, apply openpyxl's default\")\n",
      "C:\\Users\\lenovo\\AppData\\Local\\Temp\\ipykernel_45724\\2033545856.py:6: FutureWarning: The frame.append method is deprecated and will be removed from pandas in a future version. Use pandas.concat instead.\n",
      "  dataTmp = dataTmp.append(pdframe)\n",
      "C:\\ProgramData\\Anaconda3\\envs\\matplot\\lib\\site-packages\\openpyxl\\styles\\stylesheet.py:226: UserWarning: Workbook contains no default style, apply openpyxl's default\n",
      "  warn(\"Workbook contains no default style, apply openpyxl's default\")\n"
     ]
    },
    {
     "name": "stdout",
     "output_type": "stream",
     "text": [
      "start: 21\n"
     ]
    },
    {
     "name": "stderr",
     "output_type": "stream",
     "text": [
      "C:\\Users\\lenovo\\AppData\\Local\\Temp\\ipykernel_45724\\2033545856.py:6: FutureWarning: The frame.append method is deprecated and will be removed from pandas in a future version. Use pandas.concat instead.\n",
      "  dataTmp = dataTmp.append(pdframe)\n"
     ]
    },
    {
     "name": "stdout",
     "output_type": "stream",
     "text": [
      "start: 22\n"
     ]
    },
    {
     "name": "stderr",
     "output_type": "stream",
     "text": [
      "C:\\ProgramData\\Anaconda3\\envs\\matplot\\lib\\site-packages\\openpyxl\\styles\\stylesheet.py:226: UserWarning: Workbook contains no default style, apply openpyxl's default\n",
      "  warn(\"Workbook contains no default style, apply openpyxl's default\")\n",
      "C:\\Users\\lenovo\\AppData\\Local\\Temp\\ipykernel_45724\\2033545856.py:6: FutureWarning: The frame.append method is deprecated and will be removed from pandas in a future version. Use pandas.concat instead.\n",
      "  dataTmp = dataTmp.append(pdframe)\n"
     ]
    }
   ],
   "source": [
    "for i in range(0,23):\n",
    "    print('start:',i)\n",
    "    pdframe = pd.read_excel('.\\\\HXD3D0308_20220101_0130-0430\\\\'+filelist[i])\n",
    "    #选出不等于-1000的值\n",
    "    pdframe = pdframe[pdframe['拉出']>-1000]\n",
    "    dataTmp = dataTmp.append(pdframe)\n",
    "    "
   ]
  },
  {
   "cell_type": "code",
   "execution_count": 9,
   "id": "e38118ab",
   "metadata": {},
   "outputs": [
    {
     "data": {
      "text/html": [
       "<div>\n",
       "<style scoped>\n",
       "    .dataframe tbody tr th:only-of-type {\n",
       "        vertical-align: middle;\n",
       "    }\n",
       "\n",
       "    .dataframe tbody tr th {\n",
       "        vertical-align: top;\n",
       "    }\n",
       "\n",
       "    .dataframe thead th {\n",
       "        text-align: right;\n",
       "    }\n",
       "</style>\n",
       "<table border=\"1\" class=\"dataframe\">\n",
       "  <thead>\n",
       "    <tr style=\"text-align: right;\">\n",
       "      <th></th>\n",
       "      <th>序号</th>\n",
       "      <th>车号</th>\n",
       "      <th>日期</th>\n",
       "      <th>时间</th>\n",
       "      <th>速度</th>\n",
       "      <th>线路名</th>\n",
       "      <th>行别</th>\n",
       "      <th>站点</th>\n",
       "      <th>杆号</th>\n",
       "      <th>公里标</th>\n",
       "      <th>...</th>\n",
       "      <th>弓端</th>\n",
       "      <th>车次</th>\n",
       "      <th>路局</th>\n",
       "      <th>供电段</th>\n",
       "      <th>环境温度</th>\n",
       "      <th>红外温度</th>\n",
       "      <th>拉出</th>\n",
       "      <th>导高</th>\n",
       "      <th>硬点1</th>\n",
       "      <th>硬点2</th>\n",
       "    </tr>\n",
       "  </thead>\n",
       "  <tbody>\n",
       "    <tr>\n",
       "      <th>0</th>\n",
       "      <td>0</td>\n",
       "      <td>HXD3D0308</td>\n",
       "      <td>2022-01-01</td>\n",
       "      <td>01:45:00.582</td>\n",
       "      <td>142</td>\n",
       "      <td>胶济客专线</td>\n",
       "      <td>下行</td>\n",
       "      <td>五里堂</td>\n",
       "      <td>NaN</td>\n",
       "      <td>K361+507</td>\n",
       "      <td>...</td>\n",
       "      <td>B</td>\n",
       "      <td>271</td>\n",
       "      <td>NaN</td>\n",
       "      <td>NaN</td>\n",
       "      <td>1.8</td>\n",
       "      <td>3</td>\n",
       "      <td>297</td>\n",
       "      <td>6341</td>\n",
       "      <td>0</td>\n",
       "      <td>0</td>\n",
       "    </tr>\n",
       "    <tr>\n",
       "      <th>0</th>\n",
       "      <td>0</td>\n",
       "      <td>HXD3D0308</td>\n",
       "      <td>2022-01-01</td>\n",
       "      <td>02:00:00.124</td>\n",
       "      <td>134</td>\n",
       "      <td>NaN</td>\n",
       "      <td>NaN</td>\n",
       "      <td>NaN</td>\n",
       "      <td>NaN</td>\n",
       "      <td>K320+467</td>\n",
       "      <td>...</td>\n",
       "      <td>B</td>\n",
       "      <td>271</td>\n",
       "      <td>NaN</td>\n",
       "      <td>NaN</td>\n",
       "      <td>3.6</td>\n",
       "      <td>7</td>\n",
       "      <td>25</td>\n",
       "      <td>5990</td>\n",
       "      <td>0</td>\n",
       "      <td>0</td>\n",
       "    </tr>\n",
       "    <tr>\n",
       "      <th>0</th>\n",
       "      <td>0</td>\n",
       "      <td>HXD3D0308</td>\n",
       "      <td>2022-01-01</td>\n",
       "      <td>02:15:00.695</td>\n",
       "      <td>59</td>\n",
       "      <td>NaN</td>\n",
       "      <td>NaN</td>\n",
       "      <td>NaN</td>\n",
       "      <td>NaN</td>\n",
       "      <td>K288+597</td>\n",
       "      <td>...</td>\n",
       "      <td>B</td>\n",
       "      <td>271</td>\n",
       "      <td>NaN</td>\n",
       "      <td>NaN</td>\n",
       "      <td>2.8</td>\n",
       "      <td>7</td>\n",
       "      <td>225</td>\n",
       "      <td>6247</td>\n",
       "      <td>0</td>\n",
       "      <td>0</td>\n",
       "    </tr>\n",
       "    <tr>\n",
       "      <th>0</th>\n",
       "      <td>0</td>\n",
       "      <td>HXD3D0308</td>\n",
       "      <td>2022-01-01</td>\n",
       "      <td>02:30:00.123</td>\n",
       "      <td>132</td>\n",
       "      <td>NaN</td>\n",
       "      <td>NaN</td>\n",
       "      <td>NaN</td>\n",
       "      <td>NaN</td>\n",
       "      <td>K258+007</td>\n",
       "      <td>...</td>\n",
       "      <td>B</td>\n",
       "      <td>271</td>\n",
       "      <td>NaN</td>\n",
       "      <td>NaN</td>\n",
       "      <td>2.3</td>\n",
       "      <td>6</td>\n",
       "      <td>214</td>\n",
       "      <td>6307</td>\n",
       "      <td>0</td>\n",
       "      <td>0</td>\n",
       "    </tr>\n",
       "    <tr>\n",
       "      <th>0</th>\n",
       "      <td>0</td>\n",
       "      <td>HXD3D0308</td>\n",
       "      <td>2022-01-01</td>\n",
       "      <td>02:45:00.262</td>\n",
       "      <td>131</td>\n",
       "      <td>NaN</td>\n",
       "      <td>NaN</td>\n",
       "      <td>NaN</td>\n",
       "      <td>NaN</td>\n",
       "      <td>K222+502</td>\n",
       "      <td>...</td>\n",
       "      <td>B</td>\n",
       "      <td>271</td>\n",
       "      <td>NaN</td>\n",
       "      <td>NaN</td>\n",
       "      <td>2.3</td>\n",
       "      <td>4</td>\n",
       "      <td>-36</td>\n",
       "      <td>5947</td>\n",
       "      <td>0</td>\n",
       "      <td>0</td>\n",
       "    </tr>\n",
       "    <tr>\n",
       "      <th>...</th>\n",
       "      <td>...</td>\n",
       "      <td>...</td>\n",
       "      <td>...</td>\n",
       "      <td>...</td>\n",
       "      <td>...</td>\n",
       "      <td>...</td>\n",
       "      <td>...</td>\n",
       "      <td>...</td>\n",
       "      <td>...</td>\n",
       "      <td>...</td>\n",
       "      <td>...</td>\n",
       "      <td>...</td>\n",
       "      <td>...</td>\n",
       "      <td>...</td>\n",
       "      <td>...</td>\n",
       "      <td>...</td>\n",
       "      <td>...</td>\n",
       "      <td>...</td>\n",
       "      <td>...</td>\n",
       "      <td>...</td>\n",
       "      <td>...</td>\n",
       "    </tr>\n",
       "    <tr>\n",
       "      <th>5012</th>\n",
       "      <td>45012</td>\n",
       "      <td>HXD3D0308</td>\n",
       "      <td>2022-01-01</td>\n",
       "      <td>04:29:52.024</td>\n",
       "      <td>56</td>\n",
       "      <td>NaN</td>\n",
       "      <td>NaN</td>\n",
       "      <td>NaN</td>\n",
       "      <td>NaN</td>\n",
       "      <td>K6+898</td>\n",
       "      <td>...</td>\n",
       "      <td>B</td>\n",
       "      <td>271</td>\n",
       "      <td>NaN</td>\n",
       "      <td>NaN</td>\n",
       "      <td>4.3</td>\n",
       "      <td>6</td>\n",
       "      <td>-101</td>\n",
       "      <td>6298</td>\n",
       "      <td>0</td>\n",
       "      <td>0</td>\n",
       "    </tr>\n",
       "    <tr>\n",
       "      <th>5013</th>\n",
       "      <td>45013</td>\n",
       "      <td>HXD3D0308</td>\n",
       "      <td>2022-01-01</td>\n",
       "      <td>04:29:52.043</td>\n",
       "      <td>56</td>\n",
       "      <td>NaN</td>\n",
       "      <td>NaN</td>\n",
       "      <td>NaN</td>\n",
       "      <td>NaN</td>\n",
       "      <td>K6+898</td>\n",
       "      <td>...</td>\n",
       "      <td>B</td>\n",
       "      <td>271</td>\n",
       "      <td>NaN</td>\n",
       "      <td>NaN</td>\n",
       "      <td>4.3</td>\n",
       "      <td>6</td>\n",
       "      <td>-132</td>\n",
       "      <td>6316</td>\n",
       "      <td>0</td>\n",
       "      <td>0</td>\n",
       "    </tr>\n",
       "    <tr>\n",
       "      <th>5014</th>\n",
       "      <td>45014</td>\n",
       "      <td>HXD3D0308</td>\n",
       "      <td>2022-01-01</td>\n",
       "      <td>04:29:52.064</td>\n",
       "      <td>56</td>\n",
       "      <td>NaN</td>\n",
       "      <td>NaN</td>\n",
       "      <td>NaN</td>\n",
       "      <td>NaN</td>\n",
       "      <td>K6+898</td>\n",
       "      <td>...</td>\n",
       "      <td>B</td>\n",
       "      <td>271</td>\n",
       "      <td>NaN</td>\n",
       "      <td>NaN</td>\n",
       "      <td>4.3</td>\n",
       "      <td>6</td>\n",
       "      <td>-100</td>\n",
       "      <td>6316</td>\n",
       "      <td>0</td>\n",
       "      <td>0</td>\n",
       "    </tr>\n",
       "    <tr>\n",
       "      <th>5015</th>\n",
       "      <td>45015</td>\n",
       "      <td>HXD3D0308</td>\n",
       "      <td>2022-01-01</td>\n",
       "      <td>04:29:52.083</td>\n",
       "      <td>56</td>\n",
       "      <td>NaN</td>\n",
       "      <td>NaN</td>\n",
       "      <td>NaN</td>\n",
       "      <td>NaN</td>\n",
       "      <td>K6+898</td>\n",
       "      <td>...</td>\n",
       "      <td>B</td>\n",
       "      <td>271</td>\n",
       "      <td>NaN</td>\n",
       "      <td>NaN</td>\n",
       "      <td>4.3</td>\n",
       "      <td>6</td>\n",
       "      <td>-99</td>\n",
       "      <td>6298</td>\n",
       "      <td>0</td>\n",
       "      <td>0</td>\n",
       "    </tr>\n",
       "    <tr>\n",
       "      <th>0</th>\n",
       "      <td>0</td>\n",
       "      <td>HXD3D0308</td>\n",
       "      <td>2022-01-01</td>\n",
       "      <td>04:30:00.578</td>\n",
       "      <td>48</td>\n",
       "      <td>NaN</td>\n",
       "      <td>NaN</td>\n",
       "      <td>NaN</td>\n",
       "      <td>NaN</td>\n",
       "      <td>K6+777</td>\n",
       "      <td>...</td>\n",
       "      <td>B</td>\n",
       "      <td>271</td>\n",
       "      <td>NaN</td>\n",
       "      <td>NaN</td>\n",
       "      <td>4.3</td>\n",
       "      <td>6</td>\n",
       "      <td>-27</td>\n",
       "      <td>6333</td>\n",
       "      <td>0</td>\n",
       "      <td>0</td>\n",
       "    </tr>\n",
       "  </tbody>\n",
       "</table>\n",
       "<p>36717 rows × 26 columns</p>\n",
       "</div>"
      ],
      "text/plain": [
       "         序号         车号          日期            时间   速度    线路名   行别   站点  杆号  \\\n",
       "0         0  HXD3D0308  2022-01-01  01:45:00.582  142  胶济客专线   下行  五里堂 NaN   \n",
       "0         0  HXD3D0308  2022-01-01  02:00:00.124  134    NaN  NaN  NaN NaN   \n",
       "0         0  HXD3D0308  2022-01-01  02:15:00.695   59    NaN  NaN  NaN NaN   \n",
       "0         0  HXD3D0308  2022-01-01  02:30:00.123  132    NaN  NaN  NaN NaN   \n",
       "0         0  HXD3D0308  2022-01-01  02:45:00.262  131    NaN  NaN  NaN NaN   \n",
       "...     ...        ...         ...           ...  ...    ...  ...  ...  ..   \n",
       "5012  45012  HXD3D0308  2022-01-01  04:29:52.024   56    NaN  NaN  NaN NaN   \n",
       "5013  45013  HXD3D0308  2022-01-01  04:29:52.043   56    NaN  NaN  NaN NaN   \n",
       "5014  45014  HXD3D0308  2022-01-01  04:29:52.064   56    NaN  NaN  NaN NaN   \n",
       "5015  45015  HXD3D0308  2022-01-01  04:29:52.083   56    NaN  NaN  NaN NaN   \n",
       "0         0  HXD3D0308  2022-01-01  04:30:00.578   48    NaN  NaN  NaN NaN   \n",
       "\n",
       "           公里标  ...  弓端   车次  路局  供电段  环境温度 红外温度   拉出    导高  硬点1  硬点2  \n",
       "0     K361+507  ...   B  271 NaN  NaN   1.8    3  297  6341    0    0  \n",
       "0     K320+467  ...   B  271 NaN  NaN   3.6    7   25  5990    0    0  \n",
       "0     K288+597  ...   B  271 NaN  NaN   2.8    7  225  6247    0    0  \n",
       "0     K258+007  ...   B  271 NaN  NaN   2.3    6  214  6307    0    0  \n",
       "0     K222+502  ...   B  271 NaN  NaN   2.3    4  -36  5947    0    0  \n",
       "...        ...  ...  ..  ...  ..  ...   ...  ...  ...   ...  ...  ...  \n",
       "5012    K6+898  ...   B  271 NaN  NaN   4.3    6 -101  6298    0    0  \n",
       "5013    K6+898  ...   B  271 NaN  NaN   4.3    6 -132  6316    0    0  \n",
       "5014    K6+898  ...   B  271 NaN  NaN   4.3    6 -100  6316    0    0  \n",
       "5015    K6+898  ...   B  271 NaN  NaN   4.3    6  -99  6298    0    0  \n",
       "0       K6+777  ...   B  271 NaN  NaN   4.3    6  -27  6333    0    0  \n",
       "\n",
       "[36717 rows x 26 columns]"
      ]
     },
     "execution_count": 9,
     "metadata": {},
     "output_type": "execute_result"
    }
   ],
   "source": [
    "dataTmp"
   ]
  },
  {
   "cell_type": "code",
   "execution_count": 10,
   "id": "df6df5e7",
   "metadata": {},
   "outputs": [
    {
     "data": {
      "text/plain": [
       "0         NaN\n",
       "0      -272.0\n",
       "0       200.0\n",
       "0       -11.0\n",
       "0      -250.0\n",
       "        ...  \n",
       "5012      3.0\n",
       "5013    -31.0\n",
       "5014     32.0\n",
       "5015      1.0\n",
       "0        72.0\n",
       "Name: 拉出, Length: 36717, dtype: float64"
      ]
     },
     "execution_count": 10,
     "metadata": {},
     "output_type": "execute_result"
    }
   ],
   "source": [
    "dataTmp['拉出'].diff()"
   ]
  },
  {
   "cell_type": "code",
   "execution_count": 11,
   "id": "2e9357c6",
   "metadata": {},
   "outputs": [
    {
     "data": {
      "text/plain": [
       "[<matplotlib.lines.Line2D at 0x2baa05294c0>]"
      ]
     },
     "execution_count": 11,
     "metadata": {},
     "output_type": "execute_result"
    },
    {
     "data": {
      "image/png": "[encoded data removed]",
      "text/plain": [
       "<Figure size 432x288 with 1 Axes>"
      ]
     },
     "metadata": {
      "needs_background": "light"
     },
     "output_type": "display_data"
    }
   ],
   "source": [
    "plt.plot(dataTmp['拉出'].diff())"
   ]
  },
  {
   "cell_type": "code",
   "execution_count": 12,
   "id": "7b35389f",
   "metadata": {},
   "outputs": [],
   "source": [
    "import seaborn as sns"
   ]
  },
  {
   "cell_type": "code",
   "execution_count": 13,
   "id": "7c7838d8",
   "metadata": {},
   "outputs": [],
   "source": [
    "# sns.boxplot(data=dataTmp['拉出'].diff(),orient='h',showmeans=True,flierprops = dict(marker='o', markersize=5),width=0.2)"
   ]
  },
  {
   "cell_type": "code",
   "execution_count": 14,
   "id": "6d82bddc",
   "metadata": {},
   "outputs": [],
   "source": [
    "s = dataTmp['拉出'].diff()"
   ]
  },
  {
   "cell_type": "code",
   "execution_count": 15,
   "id": "e56ecec2",
   "metadata": {},
   "outputs": [
    {
     "name": "stdout",
     "output_type": "stream",
     "text": [
      "0.0\n"
     ]
    }
   ],
   "source": [
    "print(s.median())"
   ]
  },
  {
   "cell_type": "code",
   "execution_count": 16,
   "id": "a3767954",
   "metadata": {},
   "outputs": [
    {
     "name": "stdout",
     "output_type": "stream",
     "text": [
      "-5.0\n"
     ]
    }
   ],
   "source": [
    "print(s.quantile(0.25))"
   ]
  },
  {
   "cell_type": "code",
   "execution_count": 17,
   "id": "c1aa7ff7",
   "metadata": {},
   "outputs": [
    {
     "name": "stdout",
     "output_type": "stream",
     "text": [
      "5.0\n"
     ]
    }
   ],
   "source": [
    "print(s.quantile(0.75))"
   ]
  }
 ],
 "metadata": {
  "kernelspec": {
   "display_name": "Python 3 (ipykernel)",
   "language": "python",
   "name": "python3"
  },
  "language_info": {
   "codemirror_mode": {
    "name": "ipython",
    "version": 3
   },
   "file_extension": ".py",
   "mimetype": "text/x-python",
   "name": "python",
   "nbconvert_exporter": "python",
   "pygments_lexer": "ipython3",
   "version": "3.9.13"
  }
 },
 "nbformat": 4,
 "nbformat_minor": 5
}
